{
 "cells": [
  {
   "cell_type": "markdown",
   "metadata": {
    "id": "qMoedSpZEEG8"
   },
   "source": [
    "# Cardiocvascular Disease Prediction"
   ]
  },
  {
   "cell_type": "markdown",
   "metadata": {
    "id": "G5IFLmjwEEG_"
   },
   "source": [
    "## DataSource : Kaggle[[sulianova](https://www.kaggle.com/sulianova/cardiovascular-disease-dataset)]"
   ]
  },
  {
   "cell_type": "markdown",
   "metadata": {
    "id": "Gp223aRmEEHA"
   },
   "source": [
    "**Team** - <br>\n",
    "[BL.EN.U4AIE19007] *Apoorva Mani* <br>\n",
    "[BL.EN.U4AIE19010] *Bhuvanashree Murugadoss* <br>\n",
    "[BL.EN.U4AIE19027] *Karna Sai Nikhilesh Reddy* <br>"
   ]
  },
  {
   "cell_type": "markdown",
   "metadata": {
    "id": "4E67735YEEHB"
   },
   "source": [
    "# Importing Dependencies"
   ]
  },
  {
   "cell_type": "code",
   "execution_count": 18,
   "metadata": {
    "id": "CZZPMcM0EEHC"
   },
   "outputs": [],
   "source": [
    "import sys # Not Required\n",
    "import warnings\n",
    "import os\n",
    "import pickle\n",
    "import numpy as np\n",
    "import pandas as pd\n",
    "import matplotlib as mpl\n",
    "from matplotlib import pyplot as plt\n",
    "from pandas.plotting import scatter_matrix\n",
    "import seaborn as sns\n",
    "\n",
    "from sklearn.base import BaseEstimator, TransformerMixin\n",
    "from sklearn.impute import SimpleImputer\n",
    "from sklearn.model_selection import train_test_split, StratifiedShuffleSplit, cross_val_score, GridSearchCV, KFold\n",
    "from sklearn.preprocessing import OneHotEncoder, StandardScaler\n",
    "from sklearn.pipeline import Pipeline, FeatureUnion\n",
    "from sklearn.metrics import accuracy_score, classification_report, confusion_matrix, plot_confusion_matrix\n",
    "\n",
    "# Machine Learning Algorithms\n",
    "from sklearn.linear_model import LogisticRegression\n",
    "from sklearn.naive_bayes import GaussianNB\n",
    "from sklearn.neighbors import KNeighborsClassifier\n",
    "from sklearn.svm import SVC\n",
    "from sklearn.tree import DecisionTreeClassifier\n",
    "from sklearn.ensemble import BaggingClassifier\n",
    "from sklearn.tree import DecisionTreeClassifier\n",
    "from sklearn.ensemble import VotingClassifier\n",
    "from sklearn.ensemble import RandomForestClassifier\n",
    "\n",
    "# Ignoring Warnings\n",
    "warnings.filterwarnings(action='ignore')\n",
    "\n",
    "# Fixing matplotlib inline and label sizes\n",
    "%matplotlib inline\n",
    "mpl.rc('axes', labelsize=14)\n",
    "mpl.rc('xtick', labelsize=12)\n",
    "mpl.rc('ytick', labelsize=12)"
   ]
  },
  {
   "cell_type": "markdown",
   "metadata": {
    "id": "sRKoY4Y9EEHF"
   },
   "source": [
    "# File Locations for Images, Dataset, Pickles and Models"
   ]
  },
  {
   "cell_type": "code",
   "execution_count": 19,
   "metadata": {
    "id": "EZzP9he-EEHG"
   },
   "outputs": [],
   "source": [
    "# Root Directory\n",
    "PROJECT_ROOT_DIR = os.getcwd()\n",
    "   \n",
    "# Dataset Directory \n",
    "DATASET_NAME = 'cardiovascular-disease-dataset.csv'\n",
    "DATASET_DIR = 'datasets'\n",
    "DATASET_PATH = os.path.join(PROJECT_ROOT_DIR, DATASET_DIR)\n",
    "\n",
    "\n",
    "def load_dataset(path=DATASET_PATH, filename=DATASET_NAME, sep=';'):\n",
    "    dataset_location = os.path.join(path, filename)\n",
    "    return pd.read_csv(dataset_location, sep)\n",
    "\n",
    "\n",
    "# Pickle and Model Directory\n",
    "PM_DIR = 'Pickles_And_Models'\n",
    "PM_PATH = os.path.join(PROJECT_ROOT_DIR, PM_DIR)\n",
    "os.makedirs(PM_PATH, exist_ok=True)\n",
    "\n",
    "def save_object(object_ , pickle_name, pm_path = PM_PATH):\n",
    "    path = os.path.join(pm_path, pickle_name)\n",
    "    pickle.dump(object_, open(path, 'wb'))\n",
    "    print('Saving Pickle', path)\n",
    "    \n",
    "def load_object(pickle_name, pm_path = PM_PATH):\n",
    "    path = os.path.join(pm_path, pickle_name)\n",
    "    object_ = pickle.load(open(path, 'rb'))\n",
    "    print('Loaded Pickle', path)\n",
    "    return object_"
   ]
  },
  {
   "cell_type": "markdown",
   "metadata": {
    "id": "nzUuu2bfEEHM"
   },
   "source": [
    "# Load Dataset"
   ]
  },
  {
   "cell_type": "code",
   "execution_count": null,
   "metadata": {
    "id": "0cgcTgkjEEHN",
    "outputId": "33ebefd4-0853-4473-b86e-8d36b37ffb34"
   },
   "outputs": [
    {
     "data": {
      "text/plain": [
       "Index(['id', 'age', 'gender', 'height', 'weight', 'ap_hi', 'ap_lo',\n",
       "       'cholesterol', 'gluc', 'smoke', 'alco', 'active', 'cardio'],\n",
       "      dtype='object')"
      ]
     },
     "execution_count": 3,
     "metadata": {
      "tags": []
     },
     "output_type": "execute_result"
    }
   ],
   "source": [
    "cardio = load_dataset()\n",
    "cardio.columns"
   ]
  },
  {
   "cell_type": "code",
   "execution_count": null,
   "metadata": {
    "id": "1UdOtvdLEEHQ",
    "outputId": "d07501fb-5425-4623-8f83-bd03f29164d6"
   },
   "outputs": [
    {
     "name": "stdout",
     "output_type": "stream",
     "text": [
      "Saving Pickle E:\\Github\\SEMESTER-3\\PML_Project\\Pickles_And_Models\\Initial_cardio.dataframe\n"
     ]
    },
    {
     "data": {
      "text/html": [
       "<div>\n",
       "<style scoped>\n",
       "    .dataframe tbody tr th:only-of-type {\n",
       "        vertical-align: middle;\n",
       "    }\n",
       "\n",
       "    .dataframe tbody tr th {\n",
       "        vertical-align: top;\n",
       "    }\n",
       "\n",
       "    .dataframe thead th {\n",
       "        text-align: right;\n",
       "    }\n",
       "</style>\n",
       "<table border=\"1\" class=\"dataframe\">\n",
       "  <thead>\n",
       "    <tr style=\"text-align: right;\">\n",
       "      <th></th>\n",
       "      <th>age</th>\n",
       "      <th>gender</th>\n",
       "      <th>height</th>\n",
       "      <th>weight</th>\n",
       "      <th>ap_hi</th>\n",
       "      <th>ap_lo</th>\n",
       "      <th>cholesterol</th>\n",
       "      <th>gluc</th>\n",
       "      <th>smoke</th>\n",
       "      <th>alco</th>\n",
       "      <th>active</th>\n",
       "      <th>cardio</th>\n",
       "    </tr>\n",
       "  </thead>\n",
       "  <tbody>\n",
       "    <tr>\n",
       "      <th>0</th>\n",
       "      <td>18393</td>\n",
       "      <td>2</td>\n",
       "      <td>168</td>\n",
       "      <td>62.0</td>\n",
       "      <td>110</td>\n",
       "      <td>80</td>\n",
       "      <td>1</td>\n",
       "      <td>1</td>\n",
       "      <td>0</td>\n",
       "      <td>0</td>\n",
       "      <td>1</td>\n",
       "      <td>0</td>\n",
       "    </tr>\n",
       "    <tr>\n",
       "      <th>1</th>\n",
       "      <td>20228</td>\n",
       "      <td>1</td>\n",
       "      <td>156</td>\n",
       "      <td>85.0</td>\n",
       "      <td>140</td>\n",
       "      <td>90</td>\n",
       "      <td>3</td>\n",
       "      <td>1</td>\n",
       "      <td>0</td>\n",
       "      <td>0</td>\n",
       "      <td>1</td>\n",
       "      <td>1</td>\n",
       "    </tr>\n",
       "    <tr>\n",
       "      <th>2</th>\n",
       "      <td>18857</td>\n",
       "      <td>1</td>\n",
       "      <td>165</td>\n",
       "      <td>64.0</td>\n",
       "      <td>130</td>\n",
       "      <td>70</td>\n",
       "      <td>3</td>\n",
       "      <td>1</td>\n",
       "      <td>0</td>\n",
       "      <td>0</td>\n",
       "      <td>0</td>\n",
       "      <td>1</td>\n",
       "    </tr>\n",
       "    <tr>\n",
       "      <th>3</th>\n",
       "      <td>17623</td>\n",
       "      <td>2</td>\n",
       "      <td>169</td>\n",
       "      <td>82.0</td>\n",
       "      <td>150</td>\n",
       "      <td>100</td>\n",
       "      <td>1</td>\n",
       "      <td>1</td>\n",
       "      <td>0</td>\n",
       "      <td>0</td>\n",
       "      <td>1</td>\n",
       "      <td>1</td>\n",
       "    </tr>\n",
       "    <tr>\n",
       "      <th>4</th>\n",
       "      <td>17474</td>\n",
       "      <td>1</td>\n",
       "      <td>156</td>\n",
       "      <td>56.0</td>\n",
       "      <td>100</td>\n",
       "      <td>60</td>\n",
       "      <td>1</td>\n",
       "      <td>1</td>\n",
       "      <td>0</td>\n",
       "      <td>0</td>\n",
       "      <td>0</td>\n",
       "      <td>0</td>\n",
       "    </tr>\n",
       "  </tbody>\n",
       "</table>\n",
       "</div>"
      ],
      "text/plain": [
       "     age  gender  height  weight  ap_hi  ap_lo  cholesterol  gluc  smoke  \\\n",
       "0  18393       2     168    62.0    110     80            1     1      0   \n",
       "1  20228       1     156    85.0    140     90            3     1      0   \n",
       "2  18857       1     165    64.0    130     70            3     1      0   \n",
       "3  17623       2     169    82.0    150    100            1     1      0   \n",
       "4  17474       1     156    56.0    100     60            1     1      0   \n",
       "\n",
       "   alco  active  cardio  \n",
       "0     0       1       0  \n",
       "1     0       1       1  \n",
       "2     0       0       1  \n",
       "3     0       1       1  \n",
       "4     0       0       0  "
      ]
     },
     "execution_count": 4,
     "metadata": {
      "tags": []
     },
     "output_type": "execute_result"
    }
   ],
   "source": [
    "cardio.drop('id', axis=1, inplace=True)\n",
    "save_object(cardio, 'Initial_cardio.dataframe')\n",
    "cardio.head()"
   ]
  },
  {
   "cell_type": "markdown",
   "metadata": {
    "id": "sfbbiCOJEEHU"
   },
   "source": [
    "# Basic Data Information"
   ]
  },
  {
   "cell_type": "code",
   "execution_count": null,
   "metadata": {
    "id": "aPDtcSe2EEHU",
    "outputId": "3fd44854-8249-4ae5-be39-6394b92296a5"
   },
   "outputs": [
    {
     "name": "stdout",
     "output_type": "stream",
     "text": [
      "<class 'pandas.core.frame.DataFrame'>\n",
      "RangeIndex: 70000 entries, 0 to 69999\n",
      "Data columns (total 12 columns):\n",
      " #   Column       Non-Null Count  Dtype  \n",
      "---  ------       --------------  -----  \n",
      " 0   age          70000 non-null  int64  \n",
      " 1   gender       70000 non-null  int64  \n",
      " 2   height       70000 non-null  int64  \n",
      " 3   weight       70000 non-null  float64\n",
      " 4   ap_hi        70000 non-null  int64  \n",
      " 5   ap_lo        70000 non-null  int64  \n",
      " 6   cholesterol  70000 non-null  int64  \n",
      " 7   gluc         70000 non-null  int64  \n",
      " 8   smoke        70000 non-null  int64  \n",
      " 9   alco         70000 non-null  int64  \n",
      " 10  active       70000 non-null  int64  \n",
      " 11  cardio       70000 non-null  int64  \n",
      "dtypes: float64(1), int64(11)\n",
      "memory usage: 6.4 MB\n"
     ]
    }
   ],
   "source": [
    "cardio.info()"
   ]
  },
  {
   "cell_type": "code",
   "execution_count": null,
   "metadata": {
    "id": "ZUtjkYp-EEHX",
    "outputId": "a6ce5265-5cc6-413e-c078-2c2c21cbe013"
   },
   "outputs": [
    {
     "data": {
      "text/html": [
       "<div>\n",
       "<style scoped>\n",
       "    .dataframe tbody tr th:only-of-type {\n",
       "        vertical-align: middle;\n",
       "    }\n",
       "\n",
       "    .dataframe tbody tr th {\n",
       "        vertical-align: top;\n",
       "    }\n",
       "\n",
       "    .dataframe thead th {\n",
       "        text-align: right;\n",
       "    }\n",
       "</style>\n",
       "<table border=\"1\" class=\"dataframe\">\n",
       "  <thead>\n",
       "    <tr style=\"text-align: right;\">\n",
       "      <th></th>\n",
       "      <th>age</th>\n",
       "      <th>gender</th>\n",
       "      <th>height</th>\n",
       "      <th>weight</th>\n",
       "      <th>ap_hi</th>\n",
       "      <th>ap_lo</th>\n",
       "      <th>cholesterol</th>\n",
       "      <th>gluc</th>\n",
       "      <th>smoke</th>\n",
       "      <th>alco</th>\n",
       "      <th>active</th>\n",
       "      <th>cardio</th>\n",
       "    </tr>\n",
       "  </thead>\n",
       "  <tbody>\n",
       "    <tr>\n",
       "      <th>count</th>\n",
       "      <td>70000.000000</td>\n",
       "      <td>70000.000000</td>\n",
       "      <td>70000.000000</td>\n",
       "      <td>70000.000000</td>\n",
       "      <td>70000.000000</td>\n",
       "      <td>70000.000000</td>\n",
       "      <td>70000.000000</td>\n",
       "      <td>70000.000000</td>\n",
       "      <td>70000.000000</td>\n",
       "      <td>70000.000000</td>\n",
       "      <td>70000.000000</td>\n",
       "      <td>70000.000000</td>\n",
       "    </tr>\n",
       "    <tr>\n",
       "      <th>mean</th>\n",
       "      <td>19468.865814</td>\n",
       "      <td>1.349571</td>\n",
       "      <td>164.359229</td>\n",
       "      <td>74.205690</td>\n",
       "      <td>128.817286</td>\n",
       "      <td>96.630414</td>\n",
       "      <td>1.366871</td>\n",
       "      <td>1.226457</td>\n",
       "      <td>0.088129</td>\n",
       "      <td>0.053771</td>\n",
       "      <td>0.803729</td>\n",
       "      <td>0.499700</td>\n",
       "    </tr>\n",
       "    <tr>\n",
       "      <th>std</th>\n",
       "      <td>2467.251667</td>\n",
       "      <td>0.476838</td>\n",
       "      <td>8.210126</td>\n",
       "      <td>14.395757</td>\n",
       "      <td>154.011419</td>\n",
       "      <td>188.472530</td>\n",
       "      <td>0.680250</td>\n",
       "      <td>0.572270</td>\n",
       "      <td>0.283484</td>\n",
       "      <td>0.225568</td>\n",
       "      <td>0.397179</td>\n",
       "      <td>0.500003</td>\n",
       "    </tr>\n",
       "    <tr>\n",
       "      <th>min</th>\n",
       "      <td>10798.000000</td>\n",
       "      <td>1.000000</td>\n",
       "      <td>55.000000</td>\n",
       "      <td>10.000000</td>\n",
       "      <td>-150.000000</td>\n",
       "      <td>-70.000000</td>\n",
       "      <td>1.000000</td>\n",
       "      <td>1.000000</td>\n",
       "      <td>0.000000</td>\n",
       "      <td>0.000000</td>\n",
       "      <td>0.000000</td>\n",
       "      <td>0.000000</td>\n",
       "    </tr>\n",
       "    <tr>\n",
       "      <th>25%</th>\n",
       "      <td>17664.000000</td>\n",
       "      <td>1.000000</td>\n",
       "      <td>159.000000</td>\n",
       "      <td>65.000000</td>\n",
       "      <td>120.000000</td>\n",
       "      <td>80.000000</td>\n",
       "      <td>1.000000</td>\n",
       "      <td>1.000000</td>\n",
       "      <td>0.000000</td>\n",
       "      <td>0.000000</td>\n",
       "      <td>1.000000</td>\n",
       "      <td>0.000000</td>\n",
       "    </tr>\n",
       "    <tr>\n",
       "      <th>50%</th>\n",
       "      <td>19703.000000</td>\n",
       "      <td>1.000000</td>\n",
       "      <td>165.000000</td>\n",
       "      <td>72.000000</td>\n",
       "      <td>120.000000</td>\n",
       "      <td>80.000000</td>\n",
       "      <td>1.000000</td>\n",
       "      <td>1.000000</td>\n",
       "      <td>0.000000</td>\n",
       "      <td>0.000000</td>\n",
       "      <td>1.000000</td>\n",
       "      <td>0.000000</td>\n",
       "    </tr>\n",
       "    <tr>\n",
       "      <th>75%</th>\n",
       "      <td>21327.000000</td>\n",
       "      <td>2.000000</td>\n",
       "      <td>170.000000</td>\n",
       "      <td>82.000000</td>\n",
       "      <td>140.000000</td>\n",
       "      <td>90.000000</td>\n",
       "      <td>2.000000</td>\n",
       "      <td>1.000000</td>\n",
       "      <td>0.000000</td>\n",
       "      <td>0.000000</td>\n",
       "      <td>1.000000</td>\n",
       "      <td>1.000000</td>\n",
       "    </tr>\n",
       "    <tr>\n",
       "      <th>max</th>\n",
       "      <td>23713.000000</td>\n",
       "      <td>2.000000</td>\n",
       "      <td>250.000000</td>\n",
       "      <td>200.000000</td>\n",
       "      <td>16020.000000</td>\n",
       "      <td>11000.000000</td>\n",
       "      <td>3.000000</td>\n",
       "      <td>3.000000</td>\n",
       "      <td>1.000000</td>\n",
       "      <td>1.000000</td>\n",
       "      <td>1.000000</td>\n",
       "      <td>1.000000</td>\n",
       "    </tr>\n",
       "  </tbody>\n",
       "</table>\n",
       "</div>"
      ],
      "text/plain": [
       "                age        gender        height        weight         ap_hi  \\\n",
       "count  70000.000000  70000.000000  70000.000000  70000.000000  70000.000000   \n",
       "mean   19468.865814      1.349571    164.359229     74.205690    128.817286   \n",
       "std     2467.251667      0.476838      8.210126     14.395757    154.011419   \n",
       "min    10798.000000      1.000000     55.000000     10.000000   -150.000000   \n",
       "25%    17664.000000      1.000000    159.000000     65.000000    120.000000   \n",
       "50%    19703.000000      1.000000    165.000000     72.000000    120.000000   \n",
       "75%    21327.000000      2.000000    170.000000     82.000000    140.000000   \n",
       "max    23713.000000      2.000000    250.000000    200.000000  16020.000000   \n",
       "\n",
       "              ap_lo   cholesterol          gluc         smoke          alco  \\\n",
       "count  70000.000000  70000.000000  70000.000000  70000.000000  70000.000000   \n",
       "mean      96.630414      1.366871      1.226457      0.088129      0.053771   \n",
       "std      188.472530      0.680250      0.572270      0.283484      0.225568   \n",
       "min      -70.000000      1.000000      1.000000      0.000000      0.000000   \n",
       "25%       80.000000      1.000000      1.000000      0.000000      0.000000   \n",
       "50%       80.000000      1.000000      1.000000      0.000000      0.000000   \n",
       "75%       90.000000      2.000000      1.000000      0.000000      0.000000   \n",
       "max    11000.000000      3.000000      3.000000      1.000000      1.000000   \n",
       "\n",
       "             active        cardio  \n",
       "count  70000.000000  70000.000000  \n",
       "mean       0.803729      0.499700  \n",
       "std        0.397179      0.500003  \n",
       "min        0.000000      0.000000  \n",
       "25%        1.000000      0.000000  \n",
       "50%        1.000000      0.000000  \n",
       "75%        1.000000      1.000000  \n",
       "max        1.000000      1.000000  "
      ]
     },
     "execution_count": 6,
     "metadata": {
      "tags": []
     },
     "output_type": "execute_result"
    }
   ],
   "source": [
    "cardio.describe(include='all')"
   ]
  },
  {
   "cell_type": "markdown",
   "metadata": {
    "id": "RgKFCF5HEEHa"
   },
   "source": [
    "## Checking for Null Values"
   ]
  },
  {
   "cell_type": "code",
   "execution_count": null,
   "metadata": {
    "id": "LL9_R0CjEEHa",
    "outputId": "3c2a528e-ef70-464a-8fb9-ac264fe70297"
   },
   "outputs": [
    {
     "data": {
      "text/html": [
       "<div>\n",
       "<style scoped>\n",
       "    .dataframe tbody tr th:only-of-type {\n",
       "        vertical-align: middle;\n",
       "    }\n",
       "\n",
       "    .dataframe tbody tr th {\n",
       "        vertical-align: top;\n",
       "    }\n",
       "\n",
       "    .dataframe thead th {\n",
       "        text-align: right;\n",
       "    }\n",
       "</style>\n",
       "<table border=\"1\" class=\"dataframe\">\n",
       "  <thead>\n",
       "    <tr style=\"text-align: right;\">\n",
       "      <th></th>\n",
       "      <th>age</th>\n",
       "      <th>gender</th>\n",
       "      <th>height</th>\n",
       "      <th>weight</th>\n",
       "      <th>ap_hi</th>\n",
       "      <th>ap_lo</th>\n",
       "      <th>cholesterol</th>\n",
       "      <th>gluc</th>\n",
       "      <th>smoke</th>\n",
       "      <th>alco</th>\n",
       "      <th>active</th>\n",
       "      <th>cardio</th>\n",
       "    </tr>\n",
       "  </thead>\n",
       "  <tbody>\n",
       "  </tbody>\n",
       "</table>\n",
       "</div>"
      ],
      "text/plain": [
       "Empty DataFrame\n",
       "Columns: [age, gender, height, weight, ap_hi, ap_lo, cholesterol, gluc, smoke, alco, active, cardio]\n",
       "Index: []"
      ]
     },
     "execution_count": 7,
     "metadata": {
      "tags": []
     },
     "output_type": "execute_result"
    }
   ],
   "source": [
    "cardio[cardio.isnull().any(axis=1)]\n",
    "## We can see that there were no null values in dataset, we will move further with Duplicate values"
   ]
  },
  {
   "cell_type": "markdown",
   "metadata": {
    "id": "EIQ9JDvtEEHd"
   },
   "source": [
    "## Checking for Duplicate Values"
   ]
  },
  {
   "cell_type": "code",
   "execution_count": null,
   "metadata": {
    "id": "aafBg2vuEEHd",
    "outputId": "d5afb448-b173-4cb5-a65e-cc3b55d673c7"
   },
   "outputs": [
    {
     "name": "stdout",
     "output_type": "stream",
     "text": [
      "Shape of duplicates : (48, 12)\n"
     ]
    },
    {
     "data": {
      "text/html": [
       "<div>\n",
       "<style scoped>\n",
       "    .dataframe tbody tr th:only-of-type {\n",
       "        vertical-align: middle;\n",
       "    }\n",
       "\n",
       "    .dataframe tbody tr th {\n",
       "        vertical-align: top;\n",
       "    }\n",
       "\n",
       "    .dataframe thead th {\n",
       "        text-align: right;\n",
       "    }\n",
       "</style>\n",
       "<table border=\"1\" class=\"dataframe\">\n",
       "  <thead>\n",
       "    <tr style=\"text-align: right;\">\n",
       "      <th></th>\n",
       "      <th>age</th>\n",
       "      <th>gender</th>\n",
       "      <th>height</th>\n",
       "      <th>weight</th>\n",
       "      <th>ap_hi</th>\n",
       "      <th>ap_lo</th>\n",
       "      <th>cholesterol</th>\n",
       "      <th>gluc</th>\n",
       "      <th>smoke</th>\n",
       "      <th>alco</th>\n",
       "      <th>active</th>\n",
       "      <th>cardio</th>\n",
       "    </tr>\n",
       "  </thead>\n",
       "  <tbody>\n",
       "    <tr>\n",
       "      <th>40365</th>\n",
       "      <td>14552</td>\n",
       "      <td>1</td>\n",
       "      <td>158</td>\n",
       "      <td>64.0</td>\n",
       "      <td>120</td>\n",
       "      <td>80</td>\n",
       "      <td>1</td>\n",
       "      <td>1</td>\n",
       "      <td>0</td>\n",
       "      <td>0</td>\n",
       "      <td>1</td>\n",
       "      <td>0</td>\n",
       "    </tr>\n",
       "    <tr>\n",
       "      <th>6325</th>\n",
       "      <td>14552</td>\n",
       "      <td>1</td>\n",
       "      <td>158</td>\n",
       "      <td>64.0</td>\n",
       "      <td>120</td>\n",
       "      <td>80</td>\n",
       "      <td>1</td>\n",
       "      <td>1</td>\n",
       "      <td>0</td>\n",
       "      <td>0</td>\n",
       "      <td>1</td>\n",
       "      <td>0</td>\n",
       "    </tr>\n",
       "    <tr>\n",
       "      <th>64169</th>\n",
       "      <td>16160</td>\n",
       "      <td>1</td>\n",
       "      <td>168</td>\n",
       "      <td>65.0</td>\n",
       "      <td>120</td>\n",
       "      <td>80</td>\n",
       "      <td>1</td>\n",
       "      <td>1</td>\n",
       "      <td>0</td>\n",
       "      <td>0</td>\n",
       "      <td>1</td>\n",
       "      <td>1</td>\n",
       "    </tr>\n",
       "    <tr>\n",
       "      <th>17101</th>\n",
       "      <td>16160</td>\n",
       "      <td>1</td>\n",
       "      <td>168</td>\n",
       "      <td>65.0</td>\n",
       "      <td>120</td>\n",
       "      <td>80</td>\n",
       "      <td>1</td>\n",
       "      <td>1</td>\n",
       "      <td>0</td>\n",
       "      <td>0</td>\n",
       "      <td>1</td>\n",
       "      <td>1</td>\n",
       "    </tr>\n",
       "    <tr>\n",
       "      <th>1204</th>\n",
       "      <td>16793</td>\n",
       "      <td>1</td>\n",
       "      <td>165</td>\n",
       "      <td>68.0</td>\n",
       "      <td>120</td>\n",
       "      <td>80</td>\n",
       "      <td>1</td>\n",
       "      <td>1</td>\n",
       "      <td>0</td>\n",
       "      <td>0</td>\n",
       "      <td>1</td>\n",
       "      <td>0</td>\n",
       "    </tr>\n",
       "  </tbody>\n",
       "</table>\n",
       "</div>"
      ],
      "text/plain": [
       "         age  gender  height  weight  ap_hi  ap_lo  cholesterol  gluc  smoke  \\\n",
       "40365  14552       1     158    64.0    120     80            1     1      0   \n",
       "6325   14552       1     158    64.0    120     80            1     1      0   \n",
       "64169  16160       1     168    65.0    120     80            1     1      0   \n",
       "17101  16160       1     168    65.0    120     80            1     1      0   \n",
       "1204   16793       1     165    68.0    120     80            1     1      0   \n",
       "\n",
       "       alco  active  cardio  \n",
       "40365     0       1       0  \n",
       "6325      0       1       0  \n",
       "64169     0       1       1  \n",
       "17101     0       1       1  \n",
       "1204      0       1       0  "
      ]
     },
     "execution_count": 8,
     "metadata": {
      "tags": []
     },
     "output_type": "execute_result"
    }
   ],
   "source": [
    "cardio_duplicate_values = cardio[cardio.duplicated(keep=False)]\n",
    "print('Shape of duplicates :',cardio_duplicate_values.shape)\n",
    "cardio_duplicate_values.sort_values(by=['age']).head()"
   ]
  },
  {
   "cell_type": "code",
   "execution_count": null,
   "metadata": {
    "id": "NteaGHcLEEHg",
    "outputId": "3c12ad0e-ac06-4e8e-8d5a-a149c040aebf"
   },
   "outputs": [
    {
     "name": "stdout",
     "output_type": "stream",
     "text": [
      "After removing duplicates : (69976, 12)\n"
     ]
    }
   ],
   "source": [
    "# We can observe that 24 instances were being duplicated, we will try to remove them from dataset\n",
    "cardio.drop(index=cardio[cardio.duplicated()].index, axis=0, inplace=True)\n",
    "print('After removing duplicates :', cardio.shape)"
   ]
  },
  {
   "cell_type": "markdown",
   "metadata": {
    "id": "bqEnXqmuEEHj"
   },
   "source": [
    "# Outliers Detection"
   ]
  },
  {
   "cell_type": "code",
   "execution_count": null,
   "metadata": {
    "id": "LBY0r8Y8EEHk",
    "outputId": "4f10ddd0-c3ed-4072-bec0-a69ea4ee88f6"
   },
   "outputs": [
    {
     "name": "stdout",
     "output_type": "stream",
     "text": [
      "Saving figure E:\\Github\\SEMESTER-3\\PML_Project\\images\\Outliers_Found.png\n"
     ]
    },
    {
     "data": {
      "image/png": "[encoded data removed]",
      "text/plain": [
       "<Figure size 1080x576 with 5 Axes>"
      ]
     },
     "metadata": {
      "needs_background": "light",
      "tags": []
     },
     "output_type": "display_data"
    }
   ],
   "source": [
    "# Outliers Detection\n",
    "continuous_features = ['age', 'height', 'weight', 'ap_hi', 'ap_lo']\n",
    "fig, axes = plt.subplots(nrows=len(continuous_features), ncols=1, figsize =(15,8));\n",
    "\n",
    "sns.boxplot(cardio['age']/365, ax=axes[0])\n",
    "\n",
    "for (index, column) in enumerate(continuous_features[1:], 1):\n",
    "    sns.boxplot(cardio[column], ax=axes[index])\n",
    "    \n",
    "save_fig('Outliers_Found')\n",
    "plt.show()"
   ]
  },
  {
   "cell_type": "code",
   "execution_count": null,
   "metadata": {
    "id": "0h_8ltw0EEHm"
   },
   "outputs": [],
   "source": [
    "# We will do manual adjustment/deletion instead of zscore method due to it being medical data\n",
    "\n",
    "cardio.drop(cardio[(cardio['height'] < 80) | (cardio['height'] > 220)].index, inplace=True)\n",
    "cardio.drop(cardio[cardio['weight'] < 35].index, inplace=True)\n",
    "cardio.drop(cardio[(cardio['ap_hi'] < 50) | (cardio['ap_hi'] > 225)].index, inplace=True)\n",
    "cardio.drop(cardio[(cardio['ap_lo'] < 50) | (cardio['ap_lo'] > 180)].index, inplace=True)"
   ]
  },
  {
   "cell_type": "code",
   "execution_count": null,
   "metadata": {
    "id": "vu-06s7ZEEHr",
    "outputId": "dcb2b02b-f39f-4c61-e69f-35b63ebdd7e1"
   },
   "outputs": [
    {
     "name": "stdout",
     "output_type": "stream",
     "text": [
      "Saving figure E:\\Github\\SEMESTER-3\\PML_Project\\images\\Outliers_Removed.png\n"
     ]
    },
    {
     "data": {
      "image/png": "[encoded data removed]",
      "text/plain": [
       "<Figure size 1080x576 with 5 Axes>"
      ]
     },
     "metadata": {
      "needs_background": "light",
      "tags": []
     },
     "output_type": "display_data"
    }
   ],
   "source": [
    "# Outliers Detection\n",
    "continuous_features = ['age', 'height', 'weight', 'ap_hi', 'ap_lo']\n",
    "fig, axes = plt.subplots(nrows=len(continuous_features), ncols=1, figsize =(15,8));\n",
    "\n",
    "sns.boxplot(cardio['age']/365, ax=axes[0])\n",
    "\n",
    "for (index, column) in enumerate(continuous_features[1:], 1):\n",
    "    sns.boxplot(cardio[column], ax=axes[index])\n",
    "\n",
    "save_fig('Outliers_Removed')\n",
    "plt.show()"
   ]
  },
  {
   "cell_type": "markdown",
   "metadata": {
    "id": "vsPtfFSHEEHu"
   },
   "source": [
    "We can observe that after implementing Outlier removal we have got more useful data. Majority of the Outliers presented in **ap_hi**, **ap_lo** and **height** columns."
   ]
  },
  {
   "cell_type": "markdown",
   "metadata": {
    "id": "dn37mAATEEHv"
   },
   "source": [
    "# Histogram for all features each with 50 bins"
   ]
  },
  {
   "cell_type": "code",
   "execution_count": null,
   "metadata": {
    "id": "5NACN22xEEHv",
    "outputId": "92e31ade-8603-4bc7-864a-4b89a9a6e300"
   },
   "outputs": [
    {
     "name": "stdout",
     "output_type": "stream",
     "text": [
      "Saving figure E:\\Github\\SEMESTER-3\\PML_Project\\images\\Cardio_Histogram_Full.png\n"
     ]
    },
    {
     "data": {
      "image/png": "[encoded data removed]",
      "text/plain": [
       "<Figure size 1440x1080 with 12 Axes>"
      ]
     },
     "metadata": {
      "needs_background": "light",
      "tags": []
     },
     "output_type": "display_data"
    }
   ],
   "source": [
    "cardio.hist(bins=50, figsize=(20,15))\n",
    "save_fig('Cardio_Histogram_Full')\n",
    "plt.show()"
   ]
  },
  {
   "cell_type": "markdown",
   "metadata": {
    "id": "6r1GVXIHEEH0"
   },
   "source": [
    "From the above plots, we have observed that **Cholesterol** and **Glucose** have each 3 classes in them. We have to seperate them into different columns."
   ]
  },
  {
   "cell_type": "markdown",
   "metadata": {
    "id": "OwrNrSQREEH0"
   },
   "source": [
    "# Distributions of Categorical Features"
   ]
  },
  {
   "cell_type": "code",
   "execution_count": null,
   "metadata": {
    "id": "By_2vaI6EEH0",
    "outputId": "2711cd4c-56ea-4325-ba1e-2c8a6214317b"
   },
   "outputs": [
    {
     "name": "stdout",
     "output_type": "stream",
     "text": [
      "Saving figure E:\\Github\\SEMESTER-3\\PML_Project\\images\\Categorical_Features_Comparison.png\n"
     ]
    },
    {
     "data": {
      "image/png": "[encoded data removed]",
      "text/plain": [
       "<Figure size 762.375x360 with 2 Axes>"
      ]
     },
     "metadata": {
      "needs_background": "light",
      "tags": []
     },
     "output_type": "display_data"
    }
   ],
   "source": [
    "cat_features = ['gender','cholesterol','gluc', 'smoke', 'alco', 'active']\n",
    "df_long = pd.melt(cardio, id_vars=['cardio'], value_vars=cat_features)\n",
    "sns.catplot(x=\"variable\", hue=\"value\", col=\"cardio\",data=df_long, kind=\"count\")\n",
    "save_fig('Categorical_Features_Comparison')\n",
    "plt.show()"
   ]
  },
  {
   "cell_type": "code",
   "execution_count": null,
   "metadata": {
    "id": "7sZldfwrEEH3",
    "outputId": "45406be6-4a17-4ca3-f893-c664f5db29fe"
   },
   "outputs": [
    {
     "name": "stdout",
     "output_type": "stream",
     "text": [
      "Saving figure E:\\Github\\SEMESTER-3\\PML_Project\\images\\BMI_vs_Gender_Category_Analysis.png\n"
     ]
    },
    {
     "data": {
      "image/png": "[encoded data removed]",
      "text/plain": [
       "<Figure size 936x360 with 2 Axes>"
      ]
     },
     "metadata": {
      "needs_background": "light",
      "tags": []
     },
     "output_type": "display_data"
    }
   ],
   "source": [
    "cat_column = ['cholesterol','gluc']\n",
    "\n",
    "fig, axes = plt.subplots(nrows=1, ncols=len(cat_column), figsize =(13,5), sharey=True)\n",
    "fig.subplots_adjust(hspace=0.4, wspace=0.4)\n",
    "BMI = cardio['weight']/((cardio['height']/100)**2)\n",
    "\n",
    "for (index, column) in enumerate(cat_column):\n",
    "    sns.barplot(x='gender',y=BMI, data=cardio, hue=column, ax=axes[index])\n",
    "    \n",
    "axes[0].set_ylabel('BMI')   \n",
    "save_fig('BMI_vs_Gender_Category_Analysis')\n",
    "plt.show()"
   ]
  },
  {
   "cell_type": "markdown",
   "metadata": {
    "id": "rIdA76b8EEH8"
   },
   "source": [
    "# Dataset Splitting"
   ]
  },
  {
   "cell_type": "markdown",
   "metadata": {
    "id": "kv303PUmEEH8"
   },
   "source": [
    "### Splitting of Cardio Dataset into training and testing set with Stratified Shuffle Split method"
   ]
  },
  {
   "cell_type": "code",
   "execution_count": null,
   "metadata": {
    "id": "5Xz5NFHFEEH9",
    "outputId": "c15b3f58-075b-42a9-b6af-2d15332dd518"
   },
   "outputs": [
    {
     "name": "stdout",
     "output_type": "stream",
     "text": [
      "Saving Pickle E:\\Github\\SEMESTER-3\\PML_Project\\Pickles_And_Models\\Final_cardio.dataframe\n"
     ]
    }
   ],
   "source": [
    "save_object(cardio, 'Final_cardio.dataframe')"
   ]
  },
  {
   "cell_type": "code",
   "execution_count": null,
   "metadata": {
    "id": "H_ZlMg4FEEIA",
    "outputId": "f8ba0432-605b-41b3-d06a-0f42aa7ae278"
   },
   "outputs": [
    {
     "data": {
      "text/plain": [
       "3    20111\n",
       "5    11292\n",
       "2     9859\n",
       "4     8319\n",
       "1     8035\n",
       "6     6249\n",
       "7     4816\n",
       "Name: age_cat, dtype: int64"
      ]
     },
     "execution_count": 17,
     "metadata": {
      "tags": []
     },
     "output_type": "execute_result"
    }
   ],
   "source": [
    "cardio['age_cat'] = pd.cut(cardio['age'],\n",
    "                           bins=[0, 16000, 18000, 20000, 21000, 22000, 23000, np.inf],\n",
    "                           labels=[1 , 2, 3, 4, 5, 6, 7])\n",
    "cardio['age_cat'].value_counts()"
   ]
  },
  {
   "cell_type": "code",
   "execution_count": null,
   "metadata": {
    "id": "Z6yztK9ZEEID",
    "outputId": "83e2fa0e-8edd-44ec-a584-33f5f8a499da"
   },
   "outputs": [
    {
     "name": "stdout",
     "output_type": "stream",
     "text": [
      "Saving figure E:\\Github\\SEMESTER-3\\PML_Project\\images\\Age_Distribution_vs_Categories.png\n"
     ]
    },
    {
     "data": {
      "image/png": "[encoded data removed]",
      "text/plain": [
       "<Figure size 1080x360 with 2 Axes>"
      ]
     },
     "metadata": {
      "needs_background": "light",
      "tags": []
     },
     "output_type": "display_data"
    }
   ],
   "source": [
    "fig, axes = plt.subplots(nrows=1, ncols=2, figsize=(15,5))\n",
    "\n",
    "cardio['age'].hist(bins=50, ax=axes[0], color='g')\n",
    "axes[0].set(title= 'Normal Age Distribution', xlabel='Number of Instances', ylabel='age')\n",
    "\n",
    "cardio['age_cat'].hist(ax=axes[1], color='b')\n",
    "axes[1].set(title= 'Age categorized', xlabel='age in cateogries', ylabel='Number of Instances')\n",
    "\n",
    "save_fig('Age_Distribution_vs_Categories')\n",
    "plt.show()"
   ]
  },
  {
   "cell_type": "markdown",
   "metadata": {
    "id": "8RVSIbdDEEIG"
   },
   "source": [
    "cardio_train, cardio_test = train_test_split(cardio, test_size=0.2)"
   ]
  },
  {
   "cell_type": "markdown",
   "metadata": {
    "id": "zPLgUQZYEEIH"
   },
   "source": [
    "fig, split = plt.subplots(nrows=1, ncols=2, figsize=(15,5))\n",
    "\n",
    "cardio_train['age_cat'].hist(ax=split[0], color='g')\n",
    "split[0].set(title= 'Default Train Set', xlabel='age in bins', ylabel='Number of Instances')\n",
    "\n",
    "cardio_test['age_cat'].hist(ax=split[1], color='b')\n",
    "split[1].set(title= 'Default Test Set', xlabel='age in bins', ylabel='Number of Instances')\n",
    "\n",
    "plt.tight_layout()\n",
    "plt.show()"
   ]
  },
  {
   "cell_type": "markdown",
   "metadata": {
    "id": "T_5l770FEEII"
   },
   "source": [
    "save_object(cardio, 'qwicksave.data')"
   ]
  },
  {
   "cell_type": "code",
   "execution_count": null,
   "metadata": {
    "id": "miNqan5KEEIJ"
   },
   "outputs": [],
   "source": [
    "strat_split = StratifiedShuffleSplit(n_splits=1, test_size=0.2, random_state=42)\n",
    "for train_index, test_index in strat_split.split(cardio, cardio['age_cat']):\n",
    "    strat_train_set = cardio.iloc[train_index]\n",
    "    strat_test_set  = cardio.iloc[test_index]"
   ]
  },
  {
   "cell_type": "code",
   "execution_count": null,
   "metadata": {
    "id": "8s3GyoZpEEIN",
    "outputId": "6b40fd01-de38-4be2-a809-ee4c291e5f9b"
   },
   "outputs": [
    {
     "name": "stdout",
     "output_type": "stream",
     "text": [
      "Saving figure E:\\Github\\SEMESTER-3\\PML_Project\\images\\Stratified_Train_Test_Set.png\n"
     ]
    },
    {
     "data": {
      "image/png": "[encoded data removed]",
      "text/plain": [
       "<Figure size 1080x360 with 2 Axes>"
      ]
     },
     "metadata": {
      "needs_background": "light",
      "tags": []
     },
     "output_type": "display_data"
    }
   ],
   "source": [
    "fig, strat = plt.subplots(nrows=1, ncols=2, figsize=(15,5))\n",
    "\n",
    "strat_train_set['age_cat'].hist(ax=strat[0], color='b')\n",
    "strat[0].set(title= 'Train Set Hist', xlabel='age in bins', ylabel='Number of Instances')\n",
    "\n",
    "strat_test_set['age_cat'].hist(ax=strat[1], color='r')\n",
    "strat[1].set(title= 'Test Set Hist', xlabel='age in bins', ylabel='Number of Instances')\n",
    "\n",
    "save_fig('Stratified_Train_Test_Set')\n",
    "plt.show()"
   ]
  },
  {
   "cell_type": "code",
   "execution_count": null,
   "metadata": {
    "id": "xmMcNogiEEIP"
   },
   "outputs": [],
   "source": [
    "for set_ in (strat_train_set, strat_test_set):\n",
    "    set_.drop('age_cat', axis=1, inplace=True)"
   ]
  },
  {
   "cell_type": "code",
   "execution_count": null,
   "metadata": {
    "id": "gCGz_YILEEIT"
   },
   "outputs": [],
   "source": [
    "cardio = strat_train_set.copy()"
   ]
  },
  {
   "cell_type": "code",
   "execution_count": null,
   "metadata": {
    "id": "jYJdTJ0tEEIX"
   },
   "outputs": [],
   "source": [
    "corr_matrix = cardio.corr()"
   ]
  },
  {
   "cell_type": "code",
   "execution_count": null,
   "metadata": {
    "id": "Zub-NSWrEEIZ",
    "outputId": "8474fb9f-ae81-4183-e828-c83fe9157f6a"
   },
   "outputs": [
    {
     "data": {
      "text/plain": [
       "cardio         1.000000\n",
       "ap_hi          0.427615\n",
       "ap_lo          0.339710\n",
       "age            0.239476\n",
       "cholesterol    0.219276\n",
       "weight         0.176428\n",
       "gluc           0.091428\n",
       "gender         0.006667\n",
       "alco          -0.008415\n",
       "height        -0.013512\n",
       "smoke         -0.014269\n",
       "active        -0.038482\n",
       "Name: cardio, dtype: float64"
      ]
     },
     "execution_count": 24,
     "metadata": {
      "tags": []
     },
     "output_type": "execute_result"
    }
   ],
   "source": [
    "corr_matrix['cardio'].sort_values(ascending=False)"
   ]
  },
  {
   "cell_type": "code",
   "execution_count": null,
   "metadata": {
    "id": "WF8-nBskEEIg",
    "outputId": "204a8513-74f5-4582-9069-6a1786173bd3",
    "scrolled": false
   },
   "outputs": [
    {
     "name": "stdout",
     "output_type": "stream",
     "text": [
      "Saving figure E:\\Github\\SEMESTER-3\\PML_Project\\images\\Heat_Map_General.png\n"
     ]
    },
    {
     "data": {
      "image/png": "[encoded data removed]",
      "text/plain": [
       "<Figure size 864x720 with 2 Axes>"
      ]
     },
     "metadata": {
      "needs_background": "light",
      "tags": []
     },
     "output_type": "display_data"
    }
   ],
   "source": [
    "# Correlation HeatMap\n",
    "fig, axes = plt.subplots(1,1,figsize=(12,10))\n",
    "sns.heatmap(corr_matrix, annot=True, cmap='coolwarm', ax=axes, center=0.5)\n",
    "save_fig('Heat_Map_General')\n",
    "plt.show()"
   ]
  },
  {
   "cell_type": "markdown",
   "metadata": {
    "id": "fuSRwOidEEIk"
   },
   "source": [
    "As we can see that the data is not very much correlated, so we proceed further with Data Tranformation Pipelines"
   ]
  },
  {
   "cell_type": "code",
   "execution_count": null,
   "metadata": {
    "id": "JmBVIfnVEEIk"
   },
   "outputs": [],
   "source": [
    "# save_object(strat_train_set.drop(columns='cardio',axis=1), 'strat_train_cardio.dataframe')\n",
    "# save_object(strat_train_set['cardio'], 'strat_train_cardio_labels.dataframe')\n",
    "# save_object(strat_test_set.drop(columns='cardio',axis=1), 'strat_test_cardio.dataframe')\n",
    "# save_object(strat_test_set['cardio'], 'strat_test_cardio_labels.dataframe')\n",
    "\n",
    "# cardio = strat_train_set.drop(columns='cardio',axis=1).copy()\n",
    "# cardio_labels = strat_train_set['cardio'].copy()"
   ]
  },
  {
   "cell_type": "markdown",
   "metadata": {
    "id": "iV26jsyhEEIn"
   },
   "source": [
    "# Data Transformation Pipelines"
   ]
  },
  {
   "cell_type": "code",
   "execution_count": 4,
   "metadata": {
    "colab": {
     "base_uri": "https://localhost:8080/"
    },
    "id": "lliugzP5EEIn",
    "outputId": "f749be78-99a6-40a2-b5c0-f79a17fe1e48"
   },
   "outputs": [
    {
     "name": "stdout",
     "output_type": "stream",
     "text": [
      "Loaded Pickle /content/Pickles_And_Models/Final_cardio.dataframe\n",
      "Loaded Pickle /content/Pickles_And_Models/strat_train_cardio.dataframe\n",
      "Loaded Pickle /content/Pickles_And_Models/strat_train_cardio_labels.dataframe\n",
      "Loaded Pickle /content/Pickles_And_Models/strat_test_cardio.dataframe\n",
      "Loaded Pickle /content/Pickles_And_Models/strat_test_cardio_labels.dataframe\n"
     ]
    }
   ],
   "source": [
    "cardio = load_object('Final_cardio.dataframe')\n",
    "\n",
    "X_train = load_object('strat_train_cardio.dataframe')\n",
    "y_train = load_object('strat_train_cardio_labels.dataframe')\n",
    "\n",
    "X_test = load_object('strat_test_cardio.dataframe')\n",
    "y_test = load_object('strat_test_cardio_labels.dataframe')"
   ]
  },
  {
   "cell_type": "code",
   "execution_count": 5,
   "metadata": {
    "id": "UyTwqiPcEEIr"
   },
   "outputs": [],
   "source": [
    "class DataFrameSelector(BaseEstimator, TransformerMixin):\n",
    "    \n",
    "    def __init__(self, attribute_names):\n",
    "        self.attribute_names = attribute_names\n",
    "    \n",
    "    def fit(self, X, y=None):\n",
    "        return self\n",
    "    \n",
    "    def transform(self, X):\n",
    "        return X[self.attribute_names].values\n",
    "    \n",
    "target_feature = ['cardio']\n",
    "cat_attributes = ['cholesterol', 'gluc']\n",
    "num_attributes = ['age', 'gender', 'height', 'weight', 'ap_hi', 'ap_lo', 'smoke', 'alco', 'active']\n",
    "new_cat_attributes = ['cholesterol_1', 'cholesterol_2', 'cholesterol_3', 'gluc_1', 'gluc_2', 'gluc_3']\n",
    "\n",
    "num_pipeline = Pipeline([\n",
    "    ('selector'  , DataFrameSelector(num_attributes)),\n",
    "    ('imputer'   , SimpleImputer(strategy='median')),\n",
    "    ('std_scaler', StandardScaler())\n",
    "])\n",
    "\n",
    "cat_pipeline = Pipeline([\n",
    "    ('selector'    , DataFrameSelector(cat_attributes)),\n",
    "    ('cat_encoder' , OneHotEncoder(sparse=False))\n",
    "])\n",
    "\n",
    "full_pipeline = FeatureUnion(transformer_list=[\n",
    "    ('Numerical_Pipeline', num_pipeline),\n",
    "    ('Categorical_Pipeline', cat_pipeline)\n",
    "])"
   ]
  },
  {
   "cell_type": "code",
   "execution_count": 6,
   "metadata": {
    "colab": {
     "base_uri": "https://localhost:8080/",
     "height": 106
    },
    "id": "joogEzifEEIv",
    "outputId": "dfb0b2f7-9501-4633-a542-86a74d89a7d3"
   },
   "outputs": [
    {
     "data": {
      "text/html": [
       "<div>\n",
       "<style scoped>\n",
       "    .dataframe tbody tr th:only-of-type {\n",
       "        vertical-align: middle;\n",
       "    }\n",
       "\n",
       "    .dataframe tbody tr th {\n",
       "        vertical-align: top;\n",
       "    }\n",
       "\n",
       "    .dataframe thead th {\n",
       "        text-align: right;\n",
       "    }\n",
       "</style>\n",
       "<table border=\"1\" class=\"dataframe\">\n",
       "  <thead>\n",
       "    <tr style=\"text-align: right;\">\n",
       "      <th></th>\n",
       "      <th>age</th>\n",
       "      <th>gender</th>\n",
       "      <th>height</th>\n",
       "      <th>weight</th>\n",
       "      <th>ap_hi</th>\n",
       "      <th>ap_lo</th>\n",
       "      <th>cholesterol</th>\n",
       "      <th>gluc</th>\n",
       "      <th>smoke</th>\n",
       "      <th>alco</th>\n",
       "      <th>active</th>\n",
       "    </tr>\n",
       "  </thead>\n",
       "  <tbody>\n",
       "    <tr>\n",
       "      <th>3280</th>\n",
       "      <td>22640</td>\n",
       "      <td>2</td>\n",
       "      <td>167</td>\n",
       "      <td>78.0</td>\n",
       "      <td>160</td>\n",
       "      <td>100</td>\n",
       "      <td>1</td>\n",
       "      <td>1</td>\n",
       "      <td>0</td>\n",
       "      <td>0</td>\n",
       "      <td>1</td>\n",
       "    </tr>\n",
       "    <tr>\n",
       "      <th>40230</th>\n",
       "      <td>20613</td>\n",
       "      <td>1</td>\n",
       "      <td>156</td>\n",
       "      <td>88.0</td>\n",
       "      <td>150</td>\n",
       "      <td>80</td>\n",
       "      <td>1</td>\n",
       "      <td>1</td>\n",
       "      <td>0</td>\n",
       "      <td>0</td>\n",
       "      <td>1</td>\n",
       "    </tr>\n",
       "  </tbody>\n",
       "</table>\n",
       "</div>"
      ],
      "text/plain": [
       "         age  gender  height  weight  ...  gluc  smoke  alco  active\n",
       "3280   22640       2     167    78.0  ...     1      0     0       1\n",
       "40230  20613       1     156    88.0  ...     1      0     0       1\n",
       "\n",
       "[2 rows x 11 columns]"
      ]
     },
     "execution_count": 6,
     "metadata": {
      "tags": []
     },
     "output_type": "execute_result"
    }
   ],
   "source": [
    "X_train.head(2)"
   ]
  },
  {
   "cell_type": "code",
   "execution_count": 7,
   "metadata": {
    "colab": {
     "base_uri": "https://localhost:8080/"
    },
    "id": "fKfPY6ukEEIx",
    "outputId": "01d714be-1dda-438c-ae60-32ade8061500"
   },
   "outputs": [
    {
     "data": {
      "text/plain": [
       "FeatureUnion(n_jobs=None,\n",
       "             transformer_list=[('Numerical_Pipeline',\n",
       "                                Pipeline(memory=None,\n",
       "                                         steps=[('selector',\n",
       "                                                 DataFrameSelector(attribute_names=['age',\n",
       "                                                                                    'gender',\n",
       "                                                                                    'height',\n",
       "                                                                                    'weight',\n",
       "                                                                                    'ap_hi',\n",
       "                                                                                    'ap_lo',\n",
       "                                                                                    'smoke',\n",
       "                                                                                    'alco',\n",
       "                                                                                    'active'])),\n",
       "                                                ('imputer',\n",
       "                                                 SimpleImputer(add_indicator=False,\n",
       "                                                               copy=True,\n",
       "                                                               fill_value=None,\n",
       "                                                               missing_values=nan,\n",
       "                                                               strategy='median',\n",
       "                                                               verbose=0)),\n",
       "                                                ('std_scaler',...\n",
       "                                                                with_mean=True,\n",
       "                                                                with_std=True))],\n",
       "                                         verbose=False)),\n",
       "                               ('Categorical_Pipeline',\n",
       "                                Pipeline(memory=None,\n",
       "                                         steps=[('selector',\n",
       "                                                 DataFrameSelector(attribute_names=['cholesterol',\n",
       "                                                                                    'gluc'])),\n",
       "                                                ('cat_encoder',\n",
       "                                                 OneHotEncoder(categories='auto',\n",
       "                                                               drop=None,\n",
       "                                                               dtype=<class 'numpy.float64'>,\n",
       "                                                               handle_unknown='error',\n",
       "                                                               sparse=False))],\n",
       "                                         verbose=False))],\n",
       "             transformer_weights=None, verbose=False)"
      ]
     },
     "execution_count": 7,
     "metadata": {
      "tags": []
     },
     "output_type": "execute_result"
    }
   ],
   "source": [
    "full_pipeline.fit(X_train)"
   ]
  },
  {
   "cell_type": "code",
   "execution_count": 8,
   "metadata": {
    "colab": {
     "base_uri": "https://localhost:8080/"
    },
    "id": "OZVoGtkyEEIz",
    "outputId": "700bcb30-5b2a-493a-9529-73c9dde8af2a"
   },
   "outputs": [
    {
     "name": "stdout",
     "output_type": "stream",
     "text": [
      "Saving Pickle /content/Pickles_And_Models/full_pipeline.transformer\n"
     ]
    }
   ],
   "source": [
    "save_object(full_pipeline, 'full_pipeline.transformer')"
   ]
  },
  {
   "cell_type": "code",
   "execution_count": 9,
   "metadata": {
    "id": "_ysrDChyEEI1"
   },
   "outputs": [],
   "source": [
    "X_train = pd.DataFrame(data=full_pipeline.transform(X_train), columns=num_attributes+new_cat_attributes)\n",
    "X_test = pd.DataFrame(data=full_pipeline.transform(X_test), columns=num_attributes+new_cat_attributes)"
   ]
  },
  {
   "cell_type": "code",
   "execution_count": 10,
   "metadata": {
    "colab": {
     "base_uri": "https://localhost:8080/",
     "height": 126
    },
    "id": "TZQ0t6qSEEI3",
    "outputId": "68bf0000-1445-4633-9b09-303b1fddc1bc"
   },
   "outputs": [
    {
     "data": {
      "text/html": [
       "<div>\n",
       "<style scoped>\n",
       "    .dataframe tbody tr th:only-of-type {\n",
       "        vertical-align: middle;\n",
       "    }\n",
       "\n",
       "    .dataframe tbody tr th {\n",
       "        vertical-align: top;\n",
       "    }\n",
       "\n",
       "    .dataframe thead th {\n",
       "        text-align: right;\n",
       "    }\n",
       "</style>\n",
       "<table border=\"1\" class=\"dataframe\">\n",
       "  <thead>\n",
       "    <tr style=\"text-align: right;\">\n",
       "      <th></th>\n",
       "      <th>age</th>\n",
       "      <th>gender</th>\n",
       "      <th>height</th>\n",
       "      <th>weight</th>\n",
       "      <th>ap_hi</th>\n",
       "      <th>ap_lo</th>\n",
       "      <th>smoke</th>\n",
       "      <th>alco</th>\n",
       "      <th>active</th>\n",
       "      <th>cholesterol_1</th>\n",
       "      <th>cholesterol_2</th>\n",
       "      <th>cholesterol_3</th>\n",
       "      <th>gluc_1</th>\n",
       "      <th>gluc_2</th>\n",
       "      <th>gluc_3</th>\n",
       "    </tr>\n",
       "  </thead>\n",
       "  <tbody>\n",
       "    <tr>\n",
       "      <th>0</th>\n",
       "      <td>1.286661</td>\n",
       "      <td>1.371339</td>\n",
       "      <td>0.325114</td>\n",
       "      <td>0.266796</td>\n",
       "      <td>1.997143</td>\n",
       "      <td>1.941350</td>\n",
       "      <td>-0.310522</td>\n",
       "      <td>-0.237641</td>\n",
       "      <td>0.494967</td>\n",
       "      <td>1.0</td>\n",
       "      <td>0.0</td>\n",
       "      <td>0.0</td>\n",
       "      <td>1.0</td>\n",
       "      <td>0.0</td>\n",
       "      <td>0.0</td>\n",
       "    </tr>\n",
       "    <tr>\n",
       "      <th>1</th>\n",
       "      <td>0.465335</td>\n",
       "      <td>-0.729214</td>\n",
       "      <td>-1.048238</td>\n",
       "      <td>0.965196</td>\n",
       "      <td>1.398966</td>\n",
       "      <td>-0.143682</td>\n",
       "      <td>-0.310522</td>\n",
       "      <td>-0.237641</td>\n",
       "      <td>0.494967</td>\n",
       "      <td>1.0</td>\n",
       "      <td>0.0</td>\n",
       "      <td>0.0</td>\n",
       "      <td>1.0</td>\n",
       "      <td>0.0</td>\n",
       "      <td>0.0</td>\n",
       "    </tr>\n",
       "  </tbody>\n",
       "</table>\n",
       "</div>"
      ],
      "text/plain": [
       "        age    gender    height  ...  gluc_1  gluc_2  gluc_3\n",
       "0  1.286661  1.371339  0.325114  ...     1.0     0.0     0.0\n",
       "1  0.465335 -0.729214 -1.048238  ...     1.0     0.0     0.0\n",
       "\n",
       "[2 rows x 15 columns]"
      ]
     },
     "execution_count": 10,
     "metadata": {
      "tags": []
     },
     "output_type": "execute_result"
    }
   ],
   "source": [
    "X_train.head(2)"
   ]
  },
  {
   "cell_type": "markdown",
   "metadata": {
    "id": "Sa7CX9G-EEI5"
   },
   "source": [
    "# Machine Learning Algorithms Implementation"
   ]
  },
  {
   "cell_type": "markdown",
   "metadata": {
    "id": "W6PnTE4sEEI6"
   },
   "source": [
    "## Logistic Regression"
   ]
  },
  {
   "cell_type": "code",
   "execution_count": null,
   "metadata": {
    "id": "nKpLqKP5EEI6",
    "outputId": "2f66f07e-17b0-464b-ad10-744fb3c71fad"
   },
   "outputs": [
    {
     "name": "stdout",
     "output_type": "stream",
     "text": [
      "tuned hpyerparameters :(best parameters)  {'C': 25, 'penalty': 'l2'}\n",
      "accuracy : 0.7276502482814405\n"
     ]
    }
   ],
   "source": [
    "grid_values={\n",
    "    \"C\" : [0.001,0.01,1,5,10,25,50], \n",
    "    \"penalty\" : [\"l1\",\"l2\"]\n",
    "}\n",
    "\n",
    "grid_search=GridSearchCV(LogisticRegression(),grid_values,cv=10)\n",
    "grid_search.fit(X_train,y_train)\n",
    "\n",
    "print(\"tuned hpyerparameters :(best parameters) \",grid_search.best_params_)\n",
    "print(\"accuracy :\",grid_search.best_score_)"
   ]
  },
  {
   "cell_type": "code",
   "execution_count": null,
   "metadata": {
    "id": "zYQU6hNbEEI-",
    "outputId": "f67d6a98-bf4a-4922-8193-e9d1ede23a03"
   },
   "outputs": [
    {
     "name": "stdout",
     "output_type": "stream",
     "text": [
      "Accuracy: 0.669 | Scores: (0.009)\n"
     ]
    }
   ],
   "source": [
    "#Training the model with the optimised parameters\n",
    "log_reg = LogisticRegression(C = 25, penalty = 'l2')\n",
    "log_reg.fit(X_train, y_train)\n",
    "\n",
    "#KFold cross-validation for evaluating the model\n",
    "cv = KFold(n_splits=10, random_state=1, shuffle=True)\n",
    "scores = cross_val_score(log_reg, X_train, y_train, scoring='recall', cv=cv, n_jobs=-1)\n",
    "\n",
    "# Reporting the performance\n",
    "print('Accuracy: %.3f | Scores: (%.3f)' % (np.mean(scores), np.std(scores)))"
   ]
  },
  {
   "cell_type": "code",
   "execution_count": null,
   "metadata": {
    "id": "IyLOt4DAEEJB",
    "outputId": "e56183b0-fdfa-4ce6-d0b8-f7b88757c27e"
   },
   "outputs": [
    {
     "name": "stdout",
     "output_type": "stream",
     "text": [
      "Testing dataset\n",
      "[[5505 1550]\n",
      " [2142 4540]]\n",
      "              precision    recall  f1-score   support\n",
      "\n",
      "           0       0.72      0.78      0.75      7055\n",
      "           1       0.75      0.68      0.71      6682\n",
      "\n",
      "    accuracy                           0.73     13737\n",
      "   macro avg       0.73      0.73      0.73     13737\n",
      "weighted avg       0.73      0.73      0.73     13737\n",
      "\n",
      "0.731236805707214\n"
     ]
    }
   ],
   "source": [
    "# Testing Set \n",
    "log_reg = LogisticRegression(C = 25, penalty = 'l2')\n",
    "log_reg.fit(X_train, y_train)\n",
    "log_pred_test = log_reg.predict(X_test)\n",
    "print('Testing dataset')\n",
    "print(confusion_matrix(y_test,log_pred_test))\n",
    "print(classification_report(y_test,log_pred_test))\n",
    "print(accuracy_score(y_test,log_pred_test))"
   ]
  },
  {
   "cell_type": "code",
   "execution_count": null,
   "metadata": {
    "id": "T-J46m7lEEJD",
    "outputId": "a4595ed0-4c1d-4448-c124-298a8311a0a8"
   },
   "outputs": [
    {
     "name": "stdout",
     "output_type": "stream",
     "text": [
      "Saving figure E:\\Github\\SEMESTER-3\\PML_Project\\images\\Confusion_matrix_Logisitic.png\n"
     ]
    },
    {
     "data": {
      "image/png": "[encoded data removed]",
      "text/plain": [
       "<Figure size 432x288 with 2 Axes>"
      ]
     },
     "metadata": {
      "needs_background": "light",
      "tags": []
     },
     "output_type": "display_data"
    }
   ],
   "source": [
    "plot_confusion_matrix(log_reg, X_test, y_test, display_labels = ['CVD Absent', 'CVD Present'])\n",
    "save_fig('Confusion_matrix_Logisitic')\n",
    "plt.show()"
   ]
  },
  {
   "cell_type": "code",
   "execution_count": null,
   "metadata": {
    "id": "VLNZoSzmEEJH",
    "outputId": "4e6d552e-0d96-4555-db33-1078d7e0bef0"
   },
   "outputs": [
    {
     "name": "stdout",
     "output_type": "stream",
     "text": [
      "Saving Pickle E:\\Github\\SEMESTER-3\\PML_Project\\Pickles_And_Models\\Logistic_Regression.model\n"
     ]
    }
   ],
   "source": [
    "save_object(log_reg, 'Logistic_Regression.model')"
   ]
  },
  {
   "cell_type": "markdown",
   "metadata": {
    "id": "A6mq6shDEEJJ"
   },
   "source": [
    "# Naive Bayes"
   ]
  },
  {
   "cell_type": "code",
   "execution_count": null,
   "metadata": {
    "id": "7v5XUEz_EEJK",
    "outputId": "3a0f64d7-edc5-4e15-8d2e-fd6fab94a952"
   },
   "outputs": [
    {
     "name": "stdout",
     "output_type": "stream",
     "text": [
      "Testing dataset\n",
      "[[5488 1567]\n",
      " [2968 3714]]\n",
      "              precision    recall  f1-score   support\n",
      "\n",
      "           0       0.65      0.78      0.71      7055\n",
      "           1       0.70      0.56      0.62      6682\n",
      "\n",
      "    accuracy                           0.67     13737\n",
      "   macro avg       0.68      0.67      0.66     13737\n",
      "weighted avg       0.68      0.67      0.67     13737\n",
      "\n",
      "0.6698696949843488\n"
     ]
    }
   ],
   "source": [
    "gauss_nb = GaussianNB()\n",
    "gauss_nb.fit(X_train, y_train)\n",
    "gnb_pred_test = gauss_nb.predict(X_test)\n",
    "\n",
    "print('Testing dataset')\n",
    "print(confusion_matrix(y_test,gnb_pred_test))\n",
    "print(classification_report(y_test,gnb_pred_test))\n",
    "print(accuracy_score(y_test,gnb_pred_test))"
   ]
  },
  {
   "cell_type": "code",
   "execution_count": null,
   "metadata": {
    "id": "DZRkddc6EEJP",
    "outputId": "caf50088-aab8-4fac-b337-e539a8f94dcd"
   },
   "outputs": [
    {
     "name": "stdout",
     "output_type": "stream",
     "text": [
      "Saving figure E:\\Github\\SEMESTER-3\\PML_Project\\images\\Confusion_matrix_Naive_Bayes.png\n"
     ]
    },
    {
     "data": {
      "image/png": "[encoded data removed]",
      "text/plain": [
       "<Figure size 432x288 with 2 Axes>"
      ]
     },
     "metadata": {
      "needs_background": "light",
      "tags": []
     },
     "output_type": "display_data"
    }
   ],
   "source": [
    "plot_confusion_matrix(gauss_nb, X_test, y_test, display_labels = ['CVD Absent', 'CVD Present'])\n",
    "save_fig('Confusion_matrix_Naive_Bayes')\n",
    "plt.show()"
   ]
  },
  {
   "cell_type": "code",
   "execution_count": null,
   "metadata": {
    "id": "C4q4DcCgEEJT",
    "outputId": "3d3d9f11-0c02-4125-ef98-a4685a8550de"
   },
   "outputs": [
    {
     "name": "stdout",
     "output_type": "stream",
     "text": [
      "Saving Pickle E:\\Github\\SEMESTER-3\\PML_Project\\Pickles_And_Models\\Naive_Bayes.model\n"
     ]
    }
   ],
   "source": [
    "save_object(gauss_nb, 'Naive_Bayes.model')"
   ]
  },
  {
   "cell_type": "markdown",
   "metadata": {
    "id": "EHguzrQWEEJV"
   },
   "source": [
    "# K Nearest Neighbors"
   ]
  },
  {
   "cell_type": "code",
   "execution_count": null,
   "metadata": {
    "id": "MEiacu2SEEJX",
    "outputId": "61b3fefd-6439-41ba-a255-2b71bca828da"
   },
   "outputs": [
    {
     "name": "stdout",
     "output_type": "stream",
     "text": [
      "Fitting 10 folds for each of 12 candidates, totalling 120 fits\n"
     ]
    },
    {
     "name": "stderr",
     "output_type": "stream",
     "text": [
      "[Parallel(n_jobs=-1)]: Using backend LokyBackend with 8 concurrent workers.\n",
      "[Parallel(n_jobs=-1)]: Done  34 tasks      | elapsed:  1.1min\n",
      "[Parallel(n_jobs=-1)]: Done 120 out of 120 | elapsed:  4.6min finished\n"
     ]
    },
    {
     "name": "stdout",
     "output_type": "stream",
     "text": [
      "tuned hpyerparameters :(best parameters)  {'n_neighbors': 75, 'p': 1}\n",
      "accuracy : 0.7289059087703583\n"
     ]
    }
   ],
   "source": [
    "hyperparameters={\n",
    "    \"n_neighbors\" : [1, 5, 10, 25, 50, 75],\n",
    "    \"p\" : [1, 2] # manhattan_distance (l1), and euclidean_distance (l2)\n",
    "}\n",
    "\n",
    "grid_search=GridSearchCV(KNeighborsClassifier(),hyperparameters,cv=10, verbose=1, n_jobs=-1)\n",
    "grid_search.fit(X_train,y_train)\n",
    "\n",
    "print(\"tuned hpyerparameters :(best parameters) \",grid_search.best_params_)\n",
    "print(\"accuracy :\",grid_search.best_score_)"
   ]
  },
  {
   "cell_type": "code",
   "execution_count": null,
   "metadata": {
    "id": "WB976_c7EEJZ",
    "outputId": "83f1224c-5415-4f94-b503-7edc9e59d86f"
   },
   "outputs": [
    {
     "name": "stdout",
     "output_type": "stream",
     "text": [
      "Scores -> Mean: 0.728 | STD: (0.005)\n"
     ]
    }
   ],
   "source": [
    "#Training the model with the optimised parameters\n",
    "knn = KNeighborsClassifier(n_neighbors = 75, p = 1)\n",
    "knn.fit(X_train, y_train)\n",
    "\n",
    "#KFold cross-validation for evaluating the model\n",
    "cv = KFold(n_splits=10, random_state=1, shuffle=True)\n",
    "scores = cross_val_score(knn, X_train, y_train, scoring='accuracy', cv=cv, n_jobs=-1)\n",
    "\n",
    "# Reporting the performance\n",
    "print('Scores -> Mean: %.3f | STD: (%.3f)' % (np.mean(scores), np.std(scores)))"
   ]
  },
  {
   "cell_type": "code",
   "execution_count": null,
   "metadata": {
    "id": "lISKK1L_EEJc",
    "outputId": "43a54bfd-5795-4697-d14e-d381ad634e28"
   },
   "outputs": [
    {
     "name": "stdout",
     "output_type": "stream",
     "text": [
      "Testing dataset\n",
      "[[5346 1709]\n",
      " [2069 4613]]\n",
      "              precision    recall  f1-score   support\n",
      "\n",
      "           0       0.72      0.76      0.74      7055\n",
      "           1       0.73      0.69      0.71      6682\n",
      "\n",
      "    accuracy                           0.72     13737\n",
      "   macro avg       0.73      0.72      0.72     13737\n",
      "weighted avg       0.73      0.72      0.72     13737\n",
      "\n",
      "0.7249763412681081\n"
     ]
    }
   ],
   "source": [
    "# Testing Set \n",
    "knn = KNeighborsClassifier(n_neighbors = 25, p = 1)\n",
    "knn.fit(X_train, y_train)\n",
    "knn_pred_test = knn.predict(X_test)\n",
    "print('Testing dataset')\n",
    "print(confusion_matrix(y_test,knn_pred_test))\n",
    "print(classification_report(y_test,knn_pred_test))\n",
    "print(accuracy_score(y_test,knn_pred_test))"
   ]
  },
  {
   "cell_type": "code",
   "execution_count": null,
   "metadata": {
    "id": "xUF58xgBEEJf",
    "outputId": "d455b4de-753c-4ed2-ea37-af1c09462499"
   },
   "outputs": [
    {
     "name": "stdout",
     "output_type": "stream",
     "text": [
      "Saving figure E:\\Github\\SEMESTER-3\\PML_Project\\images\\Confusion_Matrix_KNN.png\n"
     ]
    },
    {
     "data": {
      "image/png": "[encoded data removed]",
      "text/plain": [
       "<Figure size 432x288 with 2 Axes>"
      ]
     },
     "metadata": {
      "needs_background": "light",
      "tags": []
     },
     "output_type": "display_data"
    }
   ],
   "source": [
    "plot_confusion_matrix(knn, X_test, y_test, display_labels = ['CVD Absent', 'CVD Present'])\n",
    "save_fig('Confusion_Matrix_KNN')\n",
    "plt.show()"
   ]
  },
  {
   "cell_type": "code",
   "execution_count": null,
   "metadata": {
    "id": "pUf8-JJKEEJi",
    "outputId": "9956a3d1-7009-42a3-a955-9478780a5f03"
   },
   "outputs": [
    {
     "name": "stdout",
     "output_type": "stream",
     "text": [
      "Saving Pickle E:\\Github\\SEMESTER-3\\PML_Project\\Pickles_And_Models\\KNN.model\n"
     ]
    }
   ],
   "source": [
    "save_object(knn, 'KNN.model')"
   ]
  },
  {
   "cell_type": "markdown",
   "metadata": {
    "id": "nYlVp3dEEEJl"
   },
   "source": [
    "# Support Vector Machines (SVM)"
   ]
  },
  {
   "cell_type": "code",
   "execution_count": 11,
   "metadata": {
    "colab": {
     "base_uri": "https://localhost:8080/",
     "height": 69
    },
    "id": "XarqaA5-EEJl",
    "outputId": "58761727-9f92-47f5-ca0d-29a0f8a546a6"
   },
   "outputs": [
    {
     "data": {
      "application/vnd.google.colaboratory.intrinsic+json": {
       "type": "string"
      },
      "text/plain": [
       "'\\nhyperparameters={\\n    \"C\" : [0.1, 10],\\n    \"gamma\" : [0.1, 1],\\n    \"kernel\" : [\\'linear\\']\\n}\\n\\ngrid_search=GridSearchCV(SVC(), hyperparameters,cv=2, verbose=1, n_jobs=-1)\\ngrid_search.fit(X_train,y_train)\\n\\nprint(\"tuned hpyerparameters :(best parameters) \",grid_search.best_params_)\\nprint(\"accuracy :\",grid_search.best_score_)\\n\\n'"
      ]
     },
     "execution_count": 11,
     "metadata": {
      "tags": []
     },
     "output_type": "execute_result"
    }
   ],
   "source": [
    "'''\n",
    "hyperparameters={\n",
    "    \"C\" : [0.1, 10],\n",
    "    \"gamma\" : [0.1, 1],\n",
    "    \"kernel\" : ['linear']\n",
    "}\n",
    "\n",
    "grid_search=GridSearchCV(SVC(), hyperparameters,cv=2, verbose=1, n_jobs=-1)\n",
    "grid_search.fit(X_train,y_train)\n",
    "\n",
    "print(\"tuned hpyerparameters :(best parameters) \",grid_search.best_params_)\n",
    "print(\"accuracy :\",grid_search.best_score_)\n",
    "\n",
    "'''"
   ]
  },
  {
   "cell_type": "code",
   "execution_count": null,
   "metadata": {
    "id": "DaQOTdphEEJn"
   },
   "outputs": [],
   "source": [
    "#Training the model with the optimised parameters\n",
    "svm = SVC(C=0.1, gamma=1, kernel='linear')\n",
    "svm.fit(X_train, y_train)\n",
    "\n",
    "#KFold cross-validation for evaluating the model\n",
    "cv = KFold(n_splits=5, random_state=1, shuffle=True)\n",
    "scores = cross_val_score(svm, X_train, y_train, scoring='accuracy', cv=cv, n_jobs=-1)\n",
    "\n",
    "# Reporting the performance\n",
    "print('Scores -> Mean: %.3f | STD: (%.3f)' % (np.mean(scores), np.std(scores)))"
   ]
  },
  {
   "cell_type": "code",
   "execution_count": 27,
   "metadata": {
    "id": "ARsDyO9KEEJw"
   },
   "outputs": [],
   "source": [
    "svm = SVC(C=0.1, gamma=1, kernel='linear')\n",
    "svm.fit(X_train, y_train)"
   ]
  },
  {
   "cell_type": "code",
   "execution_count": 24,
   "metadata": {
    "colab": {
     "base_uri": "https://localhost:8080/"
    },
    "id": "VI-PGXe_RF77",
    "outputId": "c2e538e7-04a3-405e-97ec-a79dcea558fb"
   },
   "outputs": [
    {
     "name": "stdout",
     "output_type": "stream",
     "text": [
      "Testing dataset\n",
      "[[5744 1311]\n",
      " [2387 4295]]\n",
      "              precision    recall  f1-score   support\n",
      "\n",
      "           0       0.71      0.81      0.76      7055\n",
      "           1       0.77      0.64      0.70      6682\n",
      "\n",
      "    accuracy                           0.73     13737\n",
      "   macro avg       0.74      0.73      0.73     13737\n",
      "weighted avg       0.74      0.73      0.73     13737\n",
      "\n",
      "0.7308000291184392\n"
     ]
    }
   ],
   "source": [
    "svm_pred_test = svm.predict(X_test)\n",
    "print('Testing dataset')\n",
    "print(confusion_matrix(y_test,svm_pred_test))\n",
    "print(classification_report(y_test,svm_pred_test))\n",
    "print(accuracy_score(y_test,svm_pred_test))"
   ]
  },
  {
   "cell_type": "code",
   "execution_count": 26,
   "metadata": {
    "colab": {
     "base_uri": "https://localhost:8080/",
     "height": 286
    },
    "id": "Vj6oreJeEEJy",
    "outputId": "a1ccc11e-0f1c-4483-c3c3-00258fe4a0e6"
   },
   "outputs": [
    {
     "data": {
      "image/png": "[encoded data removed]",
      "text/plain": [
       "<Figure size 432x288 with 2 Axes>"
      ]
     },
     "metadata": {
      "needs_background": "light",
      "tags": []
     },
     "output_type": "display_data"
    }
   ],
   "source": [
    "plot_confusion_matrix(svm, X_test, y_test, display_labels = ['CVD Absent', 'CVD Present'])\n",
    "plt.show()"
   ]
  },
  {
   "cell_type": "code",
   "execution_count": 25,
   "metadata": {
    "colab": {
     "base_uri": "https://localhost:8080/"
    },
    "id": "8wRIp7OCEEJ2",
    "outputId": "5bdacdfd-b486-46a0-a714-cf46b051fa4b"
   },
   "outputs": [
    {
     "name": "stdout",
     "output_type": "stream",
     "text": [
      "Saving Pickle /content/Pickles_And_Models/SVM.model\n"
     ]
    }
   ],
   "source": [
    "save_object(svm, 'SVM.model')"
   ]
  },
  {
   "cell_type": "markdown",
   "metadata": {
    "id": "ABkRgZP1EEJ4"
   },
   "source": [
    "# Decision Trees"
   ]
  },
  {
   "cell_type": "code",
   "execution_count": 22,
   "metadata": {
    "colab": {
     "base_uri": "https://localhost:8080/"
    },
    "id": "O8cFNBb8EEJ6",
    "outputId": "91c7a1ab-6585-48c1-ee31-1bd2afa24298"
   },
   "outputs": [
    {
     "name": "stdout",
     "output_type": "stream",
     "text": [
      "Accuracy: 0.633 (0.005)\n"
     ]
    }
   ],
   "source": [
    "#Training the model with the default parameters\n",
    "tree_clf = DecisionTreeClassifier()\n",
    "tree_clf.fit(X_train,y_train)\n",
    "\n",
    "#KFold cross-validation for evaluating the model\n",
    "cv = KFold(n_splits=10, random_state=1, shuffle=True)\n",
    "scores = cross_val_score(tree_clf, X_train,y_train, scoring='accuracy', cv=cv, n_jobs=-1)\n",
    "\n",
    "# Reporting the performance\n",
    "print('Accuracy: %.3f (%.3f)' % (np.mean(scores), np.std(scores)))"
   ]
  },
  {
   "cell_type": "code",
   "execution_count": null,
   "metadata": {
    "id": "pIxV6CA8EEKC"
   },
   "outputs": [],
   "source": [
    "pipeline = Pipeline([('clf',tree_clf)])\n",
    "parameters = {\n",
    "    'clf__max_depth': np.linspace(1,10,10),\n",
    "    'clf__min_samples_split': (1,2,3,4,5),\n",
    "    'clf__min_samples_leaf': (1,2,3,4,5)\n",
    "}\n",
    "grid_search = GridSearchCV(pipeline, parameters, n_jobs=-1)\n",
    "grid_search.fit(X_train,y_train)\n",
    "\n",
    "grid_search.best_score_"
   ]
  },
  {
   "cell_type": "code",
   "execution_count": null,
   "metadata": {
    "id": "RH-xffYtEEKF"
   },
   "outputs": [],
   "source": [
    "best_parameters = grid_search.best_estimator_.get_params()\n",
    "for param_name in sorted(parameters.keys()):\n",
    "    print(f'{param_name} : {best_parameters[param_name]}')"
   ]
  },
  {
   "cell_type": "code",
   "execution_count": null,
   "metadata": {
    "id": "Et0g9EoLEEKG"
   },
   "outputs": [],
   "source": [
    "#Training the model with the optimised parameters\n",
    "tree_clf = DecisionTreeClassifier(max_depth=5,min_samples_leaf=1,min_samples_split=2)\n",
    "tree_clf.fit(X_train,y_train)\n",
    "\n",
    "#KFold cross-validation for evaluating the model\n",
    "cv = KFold(n_splits=10, random_state=1, shuffle=True)\n",
    "scores = cross_val_score(tree_clf, X_train,y_train, scoring='accuracy', cv=cv, n_jobs=-1)\n",
    "\n",
    "# Reporting the performance\n",
    "print('Accuracy: %.3f (%.3f)' % (np.mean(scores), np.std(scores)))"
   ]
  },
  {
   "cell_type": "code",
   "execution_count": 23,
   "metadata": {
    "colab": {
     "base_uri": "https://localhost:8080/"
    },
    "id": "B8eXtfOzEEKJ",
    "outputId": "d099a52e-a07d-4b65-dfed-2d810e48a918"
   },
   "outputs": [
    {
     "name": "stdout",
     "output_type": "stream",
     "text": [
      "Saving Pickle /content/Pickles_And_Models/Decision_Tree.model\n"
     ]
    }
   ],
   "source": [
    "save_object(tree_clf, 'Decision_Tree.model')"
   ]
  },
  {
   "cell_type": "markdown",
   "metadata": {
    "id": "krEp2lQcEEKL"
   },
   "source": [
    "# Ensemble Methods"
   ]
  },
  {
   "cell_type": "code",
   "execution_count": 16,
   "metadata": {
    "id": "lB-SZF9OEEKL"
   },
   "outputs": [],
   "source": [
    "def plot_crossval_boxplot(models):\n",
    "    outcome = []\n",
    "    model_names = []\n",
    "\n",
    "    for model_name, model in models:\n",
    "        k_fold_validation = KFold(n_splits=10)\n",
    "        results = cross_val_score(model, X_train, y_train, cv=k_fold_validation, scoring='accuracy')\n",
    "        outcome.append(results)\n",
    "        model_names.append(model_name)\n",
    "        \n",
    "    fig = plt.figure()\n",
    "    fig.suptitle('Comparison of the Cross Validation Accuracy Scores')\n",
    "    ax = fig.add_subplot(111)\n",
    "    plt.boxplot(outcome)\n",
    "    ax.set_xticklabels(model_names)\n",
    "    plt.show()"
   ]
  },
  {
   "cell_type": "markdown",
   "metadata": {
    "id": "zlhYoOtXEEKN"
   },
   "source": [
    "# Bagging and Pasting Ensemble Methods"
   ]
  },
  {
   "cell_type": "code",
   "execution_count": 17,
   "metadata": {
    "colab": {
     "base_uri": "https://localhost:8080/",
     "height": 297
    },
    "id": "aD8VSvG0EEKN",
    "outputId": "065022f5-8bb6-40bf-b41e-0bf221174726"
   },
   "outputs": [
    {
     "data": {
      "image/png": "[encoded data removed]",
      "text/plain": [
       "<Figure size 432x288 with 1 Axes>"
      ]
     },
     "metadata": {
      "needs_background": "light",
      "tags": []
     },
     "output_type": "display_data"
    }
   ],
   "source": [
    "#Bagging\n",
    "bag_clf = BaggingClassifier(DecisionTreeClassifier(), \n",
    "                            n_estimators=500,\n",
    "                            max_samples=100, \n",
    "                            bootstrap=True, \n",
    "                            n_jobs=-1)\n",
    "\n",
    "#Pasting\n",
    "pas_clf = BaggingClassifier(DecisionTreeClassifier(), \n",
    "                            n_estimators=500,\n",
    "                            max_samples=100, \n",
    "                            bootstrap=False, \n",
    "                            n_jobs=-1)\n",
    "\n",
    "bag_clf.fit(X_train, y_train)\n",
    "pas_clf.fit(X_train, y_train)\n",
    "\n",
    "plot_crossval_boxplot([('Classifier with Bagging',bag_clf), ('Classifier with Pasting',pas_clf)])"
   ]
  },
  {
   "cell_type": "markdown",
   "metadata": {
    "id": "MvJ6LnAQEEKP"
   },
   "source": [
    "# Hard and Soft Voting in the Ensemble Method"
   ]
  },
  {
   "cell_type": "code",
   "execution_count": 18,
   "metadata": {
    "colab": {
     "base_uri": "https://localhost:8080/",
     "height": 297
    },
    "id": "dIR-9qU0EEKQ",
    "outputId": "f8657a8a-ce3e-41d5-d486-8e50ea8806af"
   },
   "outputs": [
    {
     "data": {
      "image/png": "[encoded data removed]",
      "text/plain": [
       "<Figure size 432x288 with 1 Axes>"
      ]
     },
     "metadata": {
      "needs_background": "light",
      "tags": []
     },
     "output_type": "display_data"
    }
   ],
   "source": [
    "#Warning - takes 3 mins to compile\n",
    "hard_voting_clf = VotingClassifier(estimators=[('bagging', bag_clf), ('pasting', pas_clf)],voting='hard')\n",
    "soft_voting_clf = VotingClassifier(estimators=[('bagging', bag_clf), ('pasting', pas_clf)],voting='soft')\n",
    "\n",
    "hard_voting_clf.fit(X_train, y_train)\n",
    "soft_voting_clf.fit(X_train, y_train)\n",
    "\n",
    "plot_crossval_boxplot([('Classifier with Hard Voting',hard_voting_clf), ('Classifier with Soft Voting',soft_voting_clf)])"
   ]
  },
  {
   "cell_type": "markdown",
   "metadata": {
    "id": "EHUTWXKaEEKS"
   },
   "source": [
    "# Random Forest Classifier (Similar to Bagging with Decision Tree Algorithm)"
   ]
  },
  {
   "cell_type": "code",
   "execution_count": 31,
   "metadata": {
    "colab": {
     "base_uri": "https://localhost:8080/"
    },
    "id": "argjnJm6EEKT",
    "outputId": "b6b0fc35-2308-403c-c9c5-e3b580ff4e44"
   },
   "outputs": [
    {
     "name": "stdout",
     "output_type": "stream",
     "text": [
      "Accuracy: 0.717 (0.012)\n"
     ]
    }
   ],
   "source": [
    "# Training the model with the default parameters\n",
    "rf_clf = RandomForestClassifier()\n",
    "rf_clf.fit(X_train, y_train)\n",
    "\n",
    "# KFold cross-validation for evaluating the model\n",
    "cv = KFold(n_splits=10, random_state=1, shuffle=True)\n",
    "scores = cross_val_score(rf_clf, X_test, y_test, scoring='accuracy', cv=cv, n_jobs=-1)\n",
    "\n",
    "# Reporting the performance\n",
    "print('Accuracy: %.3f (%.3f)' % (np.mean(scores), np.std(scores)))"
   ]
  },
  {
   "cell_type": "code",
   "execution_count": 32,
   "metadata": {
    "colab": {
     "base_uri": "https://localhost:8080/",
     "height": 303
    },
    "id": "LlXowSabEEKU",
    "outputId": "a034f250-c7ac-49e5-a1aa-95153090ac57"
   },
   "outputs": [
    {
     "data": {
      "text/plain": [
       "<sklearn.metrics._plot.confusion_matrix.ConfusionMatrixDisplay at 0x7f0eec0bb588>"
      ]
     },
     "execution_count": 32,
     "metadata": {
      "tags": []
     },
     "output_type": "execute_result"
    },
    {
     "data": {
      "image/png": "[encoded data removed]",
      "text/plain": [
       "<Figure size 432x288 with 2 Axes>"
      ]
     },
     "metadata": {
      "needs_background": "light",
      "tags": []
     },
     "output_type": "display_data"
    }
   ],
   "source": [
    "#How well can the default paramters predict?\n",
    "y_pred = rf_clf.predict(X_test)\n",
    "plot_confusion_matrix(rf_clf, X_test, y_test, display_labels = ['CVD Present','CVD Absent'])"
   ]
  },
  {
   "cell_type": "code",
   "execution_count": 33,
   "metadata": {
    "colab": {
     "base_uri": "https://localhost:8080/",
     "height": 69
    },
    "id": "wY1-j7IiEEKW",
    "outputId": "2ae97e49-0c15-4823-e439-31484ae9e175"
   },
   "outputs": [
    {
     "data": {
      "application/vnd.google.colaboratory.intrinsic+json": {
       "type": "string"
      },
      "text/plain": [
       "\"\\npipeline = Pipeline([('clf',rf_clf)])\\nparameters = {\\n    'clf__max_depth': (1,2,3,4,5),\\n    'clf__min_samples_split': (1,2,3),\\n    'clf__min_samples_leaf': (1,2,3)\\n}\\ngrid_search = GridSearchCV(pipeline, parameters, n_jobs=-1)\\ngrid_search.fit(X_train,y_train)\\n\\ngrid_search.best_score_\\nBest score obtianed = 0.7297333333333335\\n\""
      ]
     },
     "execution_count": 33,
     "metadata": {
      "tags": []
     },
     "output_type": "execute_result"
    }
   ],
   "source": [
    "# Warning takes 5 mins to compile\n",
    "'''\n",
    "pipeline = Pipeline([('clf',rf_clf)])\n",
    "parameters = {\n",
    "    'clf__max_depth': (1,2,3,4,5),\n",
    "    'clf__min_samples_split': (1,2,3),\n",
    "    'clf__min_samples_leaf': (1,2,3)\n",
    "}\n",
    "grid_search = GridSearchCV(pipeline, parameters, n_jobs=-1)\n",
    "grid_search.fit(X_train,y_train)\n",
    "\n",
    "grid_search.best_score_\n",
    "Best score obtianed = 0.7297333333333335\n",
    "'''"
   ]
  },
  {
   "cell_type": "code",
   "execution_count": 34,
   "metadata": {
    "id": "BliCGWMBEEKX"
   },
   "outputs": [],
   "source": [
    "best_parameters = grid_search.best_estimator_.get_params()\n",
    "for param_name in sorted(parameters.keys()):\n",
    "  print(f'{param_name} : {best_parameters[param_name]}')\n",
    "    \n",
    "'''\n",
    "Best Estimators obtained:\n",
    "clf__max_depth : 5\n",
    "clf__min_samples_leaf : 1\n",
    "clf__min_samples_split : 2\n",
    "'''"
   ]
  },
  {
   "cell_type": "code",
   "execution_count": 35,
   "metadata": {
    "colab": {
     "base_uri": "https://localhost:8080/"
    },
    "id": "2gImGDSzEEKY",
    "outputId": "7b25b8bc-498e-4205-d1e9-02ae4222411e"
   },
   "outputs": [
    {
     "name": "stdout",
     "output_type": "stream",
     "text": [
      "Accuracy: 0.728 (0.015)\n"
     ]
    }
   ],
   "source": [
    "#Training the model with the optimised parameters\n",
    "rf_clf1 = RandomForestClassifier(max_depth=5,min_samples_leaf=1,min_samples_split=2)\n",
    "rf_clf1.fit(X_train, y_train)\n",
    "\n",
    "#KFold cross-validation for evaluating the model\n",
    "cv = KFold(n_splits=10, random_state=1, shuffle=True)\n",
    "scores = cross_val_score(rf_clf1, X_test, y_test, scoring='accuracy', cv=cv, n_jobs=-1)\n",
    "\n",
    "# Reporting the performance\n",
    "print('Accuracy: %.3f (%.3f)' % (np.mean(scores), np.std(scores)))"
   ]
  },
  {
   "cell_type": "code",
   "execution_count": 36,
   "metadata": {
    "colab": {
     "base_uri": "https://localhost:8080/",
     "height": 308
    },
    "id": "XQ47Nr4nEEKa",
    "outputId": "e9d56f2f-1efb-4403-8469-771dcb456e5e"
   },
   "outputs": [
    {
     "data": {
      "text/plain": [
       "<sklearn.metrics._plot.confusion_matrix.ConfusionMatrixDisplay at 0x7f0eebfe3cc0>"
      ]
     },
     "execution_count": 36,
     "metadata": {
      "tags": []
     },
     "output_type": "execute_result"
    },
    {
     "data": {
      "image/png": "[encoded data removed]",
      "text/plain": [
       "<Figure size 432x288 with 2 Axes>"
      ]
     },
     "metadata": {
      "needs_background": "light",
      "tags": []
     },
     "output_type": "display_data"
    }
   ],
   "source": [
    "#How well can the default paramters predict?\n",
    "y_pred = rf_clf1.predict(X_test)\n",
    "plot_confusion_matrix(rf_clf1, X_test, y_test, display_labels = ['CVD Present','CVD Absent'])"
   ]
  },
  {
   "cell_type": "code",
   "execution_count": 37,
   "metadata": {
    "colab": {
     "base_uri": "https://localhost:8080/"
    },
    "id": "M_XSWMiiEEKb",
    "outputId": "26a962c7-5162-4ad9-8792-cffc213f89fb"
   },
   "outputs": [
    {
     "name": "stdout",
     "output_type": "stream",
     "text": [
      "Saving Pickle /content/Pickles_And_Models/Random_Forest.model\n"
     ]
    }
   ],
   "source": [
    "save_object(rf_clf1, 'Random_Forest.model')"
   ]
  },
  {
   "cell_type": "markdown",
   "metadata": {
    "id": "7Mfqrynskzet"
   },
   "source": [
    "# Model Analysis"
   ]
  },
  {
   "cell_type": "code",
   "execution_count": 42,
   "metadata": {
    "colab": {
     "base_uri": "https://localhost:8080/"
    },
    "id": "WASQbnoxkyXb",
    "outputId": "e5a7854b-eff5-4832-bbe3-0e462a8547f6"
   },
   "outputs": [
    {
     "name": "stdout",
     "output_type": "stream",
     "text": [
      "Loaded Pickle /content/Pickles_And_Models/Logistic_Regression.model\n",
      "Loaded Pickle /content/Pickles_And_Models/Naive_Bayes.model\n",
      "Loaded Pickle /content/Pickles_And_Models/KNN.model\n",
      "Loaded Pickle /content/Pickles_And_Models/SVM.model\n",
      "Loaded Pickle /content/Pickles_And_Models/Decision_Tree.model\n",
      "Loaded Pickle /content/Pickles_And_Models/Random_Forest.model\n"
     ]
    }
   ],
   "source": [
    "log_reg = load_object('Logistic_Regression.model')\n",
    "gnb = load_object('Naive_Bayes.model')\n",
    "knn = load_object('KNN.model')\n",
    "svm = load_object('SVM.model')\n",
    "decision_tree = load_object('Decision_Tree.model')\n",
    "random_forest = load_object('Random_Forest.model')"
   ]
  },
  {
   "cell_type": "code",
   "execution_count": 65,
   "metadata": {
    "id": "LqeoET5YnC0o"
   },
   "outputs": [],
   "source": [
    "models      = [log_reg, gnb, knn, svm, decision_tree, random_forest]\n",
    "models_cols = ['Logistic_Regression', 'Naive_Bayes', 'KNN', 'Support_Vector_Machines', 'Decision_Tree', 'Random_Forest']"
   ]
  },
  {
   "cell_type": "code",
   "execution_count": 66,
   "metadata": {
    "id": "1knjja2jpTXe"
   },
   "outputs": [],
   "source": [
    "predictions = [model.predict(X_test) for model in models]\n",
    "conf_mat =[confusion_matrix(y_test, model_pred).reshape(1,-1).tolist()[0] for model_pred in predictions]\n",
    "accuracy_score_table = [accuracy_score(y_test, model_pred) for model_pred in predictions]"
   ]
  },
  {
   "cell_type": "code",
   "execution_count": 70,
   "metadata": {
    "id": "AZJD40FCphrD"
   },
   "outputs": [],
   "source": [
    "final_comparison = pd.DataFrame( data=conf_mat, index=models_cols , columns= ['True CVD Absent', 'False CVD Absent', 'False CVD Present', 'True CVD Present'] )"
   ]
  },
  {
   "cell_type": "code",
   "execution_count": 72,
   "metadata": {
    "id": "LW-VtsYevbhH"
   },
   "outputs": [],
   "source": [
    "final_comparison['accuracy_score'] = accuracy_score_table"
   ]
  },
  {
   "cell_type": "code",
   "execution_count": 74,
   "metadata": {
    "colab": {
     "base_uri": "https://localhost:8080/",
     "height": 225
    },
    "id": "3-RxjDZcvdJl",
    "outputId": "104403f6-a8e8-4076-f955-428d1987cd0b"
   },
   "outputs": [
    {
     "data": {
      "text/html": [
       "<div>\n",
       "<style scoped>\n",
       "    .dataframe tbody tr th:only-of-type {\n",
       "        vertical-align: middle;\n",
       "    }\n",
       "\n",
       "    .dataframe tbody tr th {\n",
       "        vertical-align: top;\n",
       "    }\n",
       "\n",
       "    .dataframe thead th {\n",
       "        text-align: right;\n",
       "    }\n",
       "</style>\n",
       "<table border=\"1\" class=\"dataframe\">\n",
       "  <thead>\n",
       "    <tr style=\"text-align: right;\">\n",
       "      <th></th>\n",
       "      <th>True CVD Absent</th>\n",
       "      <th>False CVD Absent</th>\n",
       "      <th>False CVD Present</th>\n",
       "      <th>True CVD Present</th>\n",
       "      <th>accuracy_score</th>\n",
       "    </tr>\n",
       "  </thead>\n",
       "  <tbody>\n",
       "    <tr>\n",
       "      <th>Logistic_Regression</th>\n",
       "      <td>5505</td>\n",
       "      <td>1550</td>\n",
       "      <td>2142</td>\n",
       "      <td>4540</td>\n",
       "      <td>0.731237</td>\n",
       "    </tr>\n",
       "    <tr>\n",
       "      <th>Support_Vector_Machines</th>\n",
       "      <td>5744</td>\n",
       "      <td>1311</td>\n",
       "      <td>2387</td>\n",
       "      <td>4295</td>\n",
       "      <td>0.730800</td>\n",
       "    </tr>\n",
       "    <tr>\n",
       "      <th>Random_Forest</th>\n",
       "      <td>5502</td>\n",
       "      <td>1553</td>\n",
       "      <td>2186</td>\n",
       "      <td>4496</td>\n",
       "      <td>0.727815</td>\n",
       "    </tr>\n",
       "    <tr>\n",
       "      <th>KNN</th>\n",
       "      <td>5346</td>\n",
       "      <td>1709</td>\n",
       "      <td>2069</td>\n",
       "      <td>4613</td>\n",
       "      <td>0.724976</td>\n",
       "    </tr>\n",
       "    <tr>\n",
       "      <th>Naive_Bayes</th>\n",
       "      <td>5488</td>\n",
       "      <td>1567</td>\n",
       "      <td>2968</td>\n",
       "      <td>3714</td>\n",
       "      <td>0.669870</td>\n",
       "    </tr>\n",
       "    <tr>\n",
       "      <th>Decision_Tree</th>\n",
       "      <td>4455</td>\n",
       "      <td>2600</td>\n",
       "      <td>2496</td>\n",
       "      <td>4186</td>\n",
       "      <td>0.629031</td>\n",
       "    </tr>\n",
       "  </tbody>\n",
       "</table>\n",
       "</div>"
      ],
      "text/plain": [
       "                         True CVD Absent  ...  accuracy_score\n",
       "Logistic_Regression                 5505  ...        0.731237\n",
       "Support_Vector_Machines             5744  ...        0.730800\n",
       "Random_Forest                       5502  ...        0.727815\n",
       "KNN                                 5346  ...        0.724976\n",
       "Naive_Bayes                         5488  ...        0.669870\n",
       "Decision_Tree                       4455  ...        0.629031\n",
       "\n",
       "[6 rows x 5 columns]"
      ]
     },
     "execution_count": 74,
     "metadata": {
      "tags": []
     },
     "output_type": "execute_result"
    }
   ],
   "source": [
    "final_comparison.sort_values('accuracy_score', ascending=False)"
   ]
  },
  {
   "cell_type": "code",
   "execution_count": null,
   "metadata": {
    "id": "wFCNKC40vkeY"
   },
   "outputs": [],
   "source": []
  }
 ],
 "metadata": {
  "colab": {
   "collapsed_sections": [
    "4E67735YEEHB",
    "sRKoY4Y9EEHF",
    "nzUuu2bfEEHM",
    "sfbbiCOJEEHU",
    "EIQ9JDvtEEHd",
    "bqEnXqmuEEHj",
    "dn37mAATEEHv",
    "OwrNrSQREEH0",
    "rIdA76b8EEH8",
    "iV26jsyhEEIn",
    "Sa7CX9G-EEI5",
    "W6PnTE4sEEI6",
    "A6mq6shDEEJJ",
    "EHguzrQWEEJV",
    "nYlVp3dEEEJl",
    "ABkRgZP1EEJ4",
    "krEp2lQcEEKL",
    "zlhYoOtXEEKN",
    "MvJ6LnAQEEKP",
    "EHUTWXKaEEKS"
   ],
   "name": "Cardiovascular_Disease_Prediction.ipynb",
   "provenance": [],
   "toc_visible": true
  },
  "kernelspec": {
   "display_name": "GenTF",
   "language": "python",
   "name": "gentf"
  },
  "language_info": {
   "codemirror_mode": {
    "name": "ipython",
    "version": 3
   },
   "file_extension": ".py",
   "mimetype": "text/x-python",
   "name": "python",
   "nbconvert_exporter": "python",
   "pygments_lexer": "ipython3",
   "version": "3.8.5"
  }
 },
 "nbformat": 4,
 "nbformat_minor": 1
}
